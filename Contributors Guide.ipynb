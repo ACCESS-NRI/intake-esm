{
 "cells": [
  {
   "cell_type": "markdown",
   "metadata": {},
   "source": [
    "# How do I use Intake-ESM for additional datasets?"
   ]
  },
  {
   "cell_type": "markdown",
   "metadata": {},
   "source": [
    "First, fork the intake-esm repo. \n",
    "\n",
    "Look at the cesm-le-collection.yaml file, this file contains a collection of rules and specification that tells intake-esm how to obtain attributes from the files and walk directories.\n",
    "\n",
    "\n",
    "Add a new entry in config.yaml with 1) collection name and 2) column names of attributes that the collection has.\n",
    "At teh end of config.yaml add information about your file sources"
   ]
  },
  {
   "cell_type": "raw",
   "metadata": {},
   "source": [
    "sources:\n",
    "    cesm: intake_esm.cesm.CESMSource\n",
    "    cmip5: intake_esm.cmip.CMIP5Source\n",
    "    cmip6: intake_esm.cmip.CMIP6Source\n",
    "    mpige: intake_esm.mpige.MPIGESource\n",
    "    gmit: intake_esm.gmet.GMETSource\n",
    "    era5: intake_esm.era5.ERA5Source"
   ]
  },
  {
   "cell_type": "markdown",
   "metadata": {},
   "source": [
    "Specify required_columns and order_by_columns.\n",
    "\n",
    "Create a YAML file with the following content:\n",
    "\n",
    "(replacing collection_type and url_path with respective values for your case)\n",
    "\n",
    "(exclude_dirs may be optional)"
   ]
  },
  {
   "cell_type": "raw",
   "metadata": {},
   "source": [
    "name: gmet_test\n",
    "collection_type: gmet\n",
    "data_sources:\n",
    "    v2_landmask:\n",
    "    locations:\n",
    "      - name: GMET_V2-TEST-LIST\n",
    "        loc_type: input-file\n",
    "        direct_access: False\n",
    "        urlpath: ./tests/gmet_v2_filelist.txt\n",
    "        exclude_dirs: ['*/mean/*', '*/summary_files/*']"
   ]
  },
  {
   "cell_type": "markdown",
   "metadata": {},
   "source": [
    "Then, add a new .py file for the new dataset collection to your fork (similar formating to the cmip.py or cesm.py files) in which you create a new class for the new collection type. This script should contain instruction on how to fill the columns with the attributes from each data file in the collection.\n",
    "\n",
    "The new class has the following structure:"
   ]
  },
  {
   "cell_type": "raw",
   "metadata": {},
   "source": [
    "class PlaceholderCollection(Collection):\n",
    "    \n",
    "    def __init__(self, collection_spec):\n",
    "        \n",
    "        super(PlaceholderCollection, self).__init__(collection_spec)\n",
    "        self.df = pd.DataFrame(columns=self.columns)\n",
    "        \n",
    "    def build(self):\n",
    "        self._validate()\n",
    "        \n",
    "        # Put the logic of how files and direcotreies will be parsed here\n",
    "        \n",
    "        self.persist_db_file()\n",
    "        return self.df"
   ]
  },
  {
   "cell_type": "markdown",
   "metadata": {},
   "source": [
    "def_assemble_file_list and _assemble_collection_df_files hosts the logic for parsing files and construction the final dataframe with every file's attributes/metadata."
   ]
  },
  {
   "cell_type": "markdown",
   "metadata": {},
   "source": [
    "Update core.py"
   ]
  },
  {
   "cell_type": "markdown",
   "metadata": {},
   "source": [
    "Note:\n",
    "    \n",
    "    delte the old config.yaml file persisted in ~/.intake_esm/config.yaml.\n",
    "    \n",
    "    When intake-esm is run, it checks to see if config.yaml exists. If it already exists, nothing is done, but to have intake_esm update the changes made to the config.yaml file, you must delete the old one."
   ]
  },
  {
   "cell_type": "code",
   "execution_count": null,
   "metadata": {},
   "outputs": [],
   "source": []
  }
 ],
 "metadata": {
  "kernelspec": {
   "display_name": "Python 3",
   "language": "python",
   "name": "python3"
  },
  "language_info": {
   "codemirror_mode": {
    "name": "ipython",
    "version": 3
   },
   "file_extension": ".py",
   "mimetype": "text/x-python",
   "name": "python",
   "nbconvert_exporter": "python",
   "pygments_lexer": "ipython3",
   "version": "3.7.1"
  }
 },
 "nbformat": 4,
 "nbformat_minor": 2
}
