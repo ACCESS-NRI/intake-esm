{
 "cells": [
  {
   "cell_type": "code",
   "execution_count": 1,
   "metadata": {},
   "outputs": [
    {
     "name": "stdout",
     "output_type": "stream",
     "text": [
      "# packages in environment at /ncar/usr/jupyterhub/20190118:\n",
      "#\n",
      "# Name                    Version                   Build  Channel\n",
      "alembic                   1.0.6                    pypi_0    pypi\n",
      "asn1crypto                0.24.0                   py37_0  \n",
      "async-generator           1.10                     pypi_0    pypi\n",
      "attrs                     18.2.0                     py_0    conda-forge\n",
      "backcall                  0.1.0                      py_0    conda-forge\n",
      "bash-kernel               0.7.1                    pypi_0    pypi\n",
      "bleach                    3.1.0                    pypi_0    pypi\n",
      "bzip2                     1.0.6             h14c3975_1002    conda-forge\n",
      "ca-certificates           2018.11.29           ha4d7672_0    conda-forge\n",
      "certifi                   2018.11.29            py37_1000    conda-forge\n",
      "cffi                      1.11.5           py37he75722e_1  \n",
      "chardet                   3.0.4                    py37_1  \n",
      "conda                     4.6.1                    py37_0    conda-forge\n",
      "conda-env                 2.6.0                         1  \n",
      "configurable-http-proxy   1.3.0                         0    conda-forge\n",
      "cryptography              2.4.2            py37h1ba5d50_0  \n",
      "dbus                      1.13.2               h714fa37_1  \n",
      "decorator                 4.3.0                      py_0    conda-forge\n",
      "entrypoints               0.3                   py37_1000    conda-forge\n",
      "expat                     2.2.5             hf484d3e_1002    conda-forge\n",
      "fontconfig                2.13.1            h2176d3f_1000    conda-forge\n",
      "freetype                  2.9.1             h3cfcefd_1004    conda-forge\n",
      "gettext                   0.19.8.1          h9745a5d_1001    conda-forge\n",
      "giflib                    5.1.4                h14c3975_1  \n",
      "glib                      2.56.2            had28632_1001    conda-forge\n",
      "gmp                       6.1.2             hf484d3e_1000    conda-forge\n",
      "gst-plugins-base          1.14.0               hbbd80ab_1  \n",
      "gstreamer                 1.14.0               hb453b48_1  \n",
      "icu                       58.2              hf484d3e_1000    conda-forge\n",
      "idna                      2.8                      py37_0  \n",
      "ipykernel                 5.1.0           py37h24bf2e0_1001    conda-forge\n",
      "ipython                   7.2.0           py37h24bf2e0_1000    conda-forge\n",
      "ipython-genutils          0.2.0                    pypi_0    pypi\n",
      "ipython_genutils          0.2.0                      py_1    conda-forge\n",
      "ipywidgets                7.4.2                      py_0    conda-forge\n",
      "jedi                      0.13.2                py37_1000    conda-forge\n",
      "jinja2                    2.10                     pypi_0    pypi\n",
      "jpeg                      9c                h14c3975_1001    conda-forge\n",
      "jsonschema                3.0.0a3               py37_1000    conda-forge\n",
      "jupyter                   1.0.0                      py_1    conda-forge\n",
      "jupyter_client            5.2.4                      py_0    conda-forge\n",
      "jupyter_console           6.0.0                      py_0    conda-forge\n",
      "jupyter_core              4.4.0                      py_0    conda-forge\n",
      "jupyterhub                0.9.4                    pypi_0    pypi\n",
      "jupyterlab                0.35.4                   py37_0    conda-forge\n",
      "jupyterlab_server         0.2.0                      py_0    conda-forge\n",
      "krb5                      1.16.1               h173b8e3_7  \n",
      "libcurl                   7.63.0            h20c2e04_1000  \n",
      "libedit                   3.1.20170329         h6b74fdf_2  \n",
      "libffi                    3.2.1                hd88cf55_4  \n",
      "libgcc                    7.2.0                h69d50b8_2  \n",
      "libgcc-ng                 8.2.0                hdf63c60_1  \n",
      "libgd                     2.2.5                hceca4fd_3  \n",
      "libgfortran-ng            7.3.0                hdf63c60_0  \n",
      "libiconv                  1.15              h14c3975_1004    conda-forge\n",
      "libpng                    1.6.36            h84994c4_1000    conda-forge\n",
      "libsodium                 1.0.16            h14c3975_1001    conda-forge\n",
      "libssh2                   1.8.0                h1ba5d50_4  \n",
      "libstdcxx-ng              8.2.0                hdf63c60_1  \n",
      "libtiff                   4.0.9                he85c1e1_2  \n",
      "libuuid                   2.32.1            h14c3975_1000    conda-forge\n",
      "libwebp                   1.0.1                h8e7db2f_0  \n",
      "libxcb                    1.13              h14c3975_1002    conda-forge\n",
      "libxml2                   2.9.8             h143f9aa_1005    conda-forge\n",
      "libxslt                   1.1.32               h1312cb7_0  \n",
      "mako                      1.0.7                    pypi_0    pypi\n",
      "markupsafe                1.1.0           py37h14c3975_1000    conda-forge\n",
      "mistune                   0.8.4           py37h14c3975_1000    conda-forge\n",
      "nb_conda_kernels          2.2.0                 py37_1000    conda-forge\n",
      "nbconvert                 5.3.1                      py_1    conda-forge\n",
      "nbformat                  4.4.0                      py_1    conda-forge\n",
      "ncurses                   6.1                  he6710b0_1  \n",
      "nginx                     1.15.5               hf7769d2_0  \n",
      "nodejs                    11.8.0               hf484d3e_0    conda-forge\n",
      "notebook                  5.7.4                 py37_1000    conda-forge\n",
      "openssl                   1.1.1a            h14c3975_1000    conda-forge\n",
      "optionsspawner            0.1.0                    pypi_0    pypi\n",
      "pamela                    1.0.0                    pypi_0    pypi\n",
      "pandoc                    2.5                           0    conda-forge\n",
      "pandocfilters             1.4.2                      py_1    conda-forge\n",
      "parso                     0.3.1                      py_0    conda-forge\n",
      "pcre                      8.42                 h439df22_0  \n",
      "pexpect                   4.6.0                 py37_1000    conda-forge\n",
      "pickleshare               0.7.5                 py37_1000    conda-forge\n",
      "pip                       18.1                     py37_0  \n",
      "prometheus_client         0.5.0                      py_0    conda-forge\n",
      "prompt_toolkit            2.0.7                      py_0    conda-forge\n",
      "pthread-stubs             0.4               h14c3975_1001    conda-forge\n",
      "ptyprocess                0.6.0                 py37_1000    conda-forge\n",
      "pycosat                   0.6.3            py37h14c3975_0  \n",
      "pycparser                 2.19                     py37_0  \n",
      "pycurl                    7.43.0.2         py37h1ba5d50_0  \n",
      "pygments                  2.3.1                      py_0    conda-forge\n",
      "pyopenssl                 18.0.0                   py37_0  \n",
      "pyqt                      5.6.0           py37h13b7fb3_1008    conda-forge\n",
      "pyrsistent                0.14.9          py37h14c3975_1000    conda-forge\n",
      "pysocks                   1.6.8                    py37_0  \n",
      "python                    3.7.2                h0371630_0  \n",
      "python-dateutil           2.7.5                      py_0    conda-forge\n",
      "pyzmq                     17.1.2          py37h6afc9c9_1001    conda-forge\n",
      "qt                        5.6.3                h8bf5577_3  \n",
      "qtconsole                 4.4.3                      py_0    conda-forge\n",
      "readline                  7.0                  h7b6447c_5  \n",
      "requests                  2.21.0                   py37_0  \n",
      "ruamel_yaml               0.15.46          py37h14c3975_0  \n",
      "send2trash                1.5.0                      py_0    conda-forge\n",
      "setuptools                40.6.3                   py37_0  \n",
      "sip                       4.18.1          py37hf484d3e_1000    conda-forge\n",
      "six                       1.12.0                   py37_0  \n",
      "sqlalchemy                1.3.0b1                  pypi_0    pypi\n",
      "sqlite                    3.26.0               h7b6447c_0  \n",
      "terminado                 0.8.1                 py37_1001    conda-forge\n",
      "testpath                  0.4.2                 py37_1000    conda-forge\n",
      "tk                        8.6.8                hbc83047_0  \n",
      "tornado                   5.1.1           py37h14c3975_1000    conda-forge\n",
      "traitlets                 4.3.2                 py37_1000    conda-forge\n",
      "urllib3                   1.24.1                   py37_0  \n",
      "wcwidth                   0.1.7                      py_1    conda-forge\n",
      "webencodings              0.5.1                      py_1    conda-forge\n",
      "wheel                     0.32.3                   py37_0  \n",
      "widgetsnbextension        3.4.2                 py37_1000    conda-forge\n",
      "wrapspawner               0.0.1-dev                pypi_0    pypi\n",
      "xorg-libxau               1.0.8             h14c3975_1006    conda-forge\n",
      "xorg-libxdmcp             1.1.2             h14c3975_1007    conda-forge\n",
      "xz                        5.2.4                h14c3975_4  \n",
      "yaml                      0.1.7                had09818_2  \n",
      "zeromq                    4.2.5             hf484d3e_1006    conda-forge\n",
      "zlib                      1.2.11               h7b6447c_3  \n"
     ]
    }
   ],
   "source": [
    "!conda list"
   ]
  },
  {
   "cell_type": "code",
   "execution_count": 2,
   "metadata": {},
   "outputs": [
    {
     "name": "stdout",
     "output_type": "stream",
     "text": [
      "/ncar/usr/jupyterhub/20190118/bin/python\n"
     ]
    }
   ],
   "source": [
    "!which python"
   ]
  },
  {
   "cell_type": "code",
   "execution_count": 4,
   "metadata": {},
   "outputs": [
    {
     "name": "stdout",
     "output_type": "stream",
     "text": [
      "/ncar/usr/jupyterhub/20190118/bin/python\n"
     ]
    }
   ],
   "source": [
    "%%bash \n",
    "which python"
   ]
  },
  {
   "cell_type": "code",
   "execution_count": 5,
   "metadata": {},
   "outputs": [],
   "source": [
    "import sys"
   ]
  },
  {
   "cell_type": "code",
   "execution_count": 6,
   "metadata": {},
   "outputs": [
    {
     "data": {
      "text/plain": [
       "'/ncar/usr/jupyterhub/envs/pangeo-3.6/bin/python'"
      ]
     },
     "execution_count": 6,
     "metadata": {},
     "output_type": "execute_result"
    }
   ],
   "source": [
    "sys.executable"
   ]
  },
  {
   "cell_type": "code",
   "execution_count": 7,
   "metadata": {},
   "outputs": [
    {
     "name": "stdout",
     "output_type": "stream",
     "text": [
      "Writing test.py\n"
     ]
    }
   ],
   "source": [
    "%%writefile test.py\n",
    "import sys\n",
    "print(sys.executable)"
   ]
  },
  {
   "cell_type": "code",
   "execution_count": 8,
   "metadata": {},
   "outputs": [
    {
     "name": "stdout",
     "output_type": "stream",
     "text": [
      "/ncar/usr/jupyterhub/envs/pangeo-3.6/bin/python\n"
     ]
    }
   ],
   "source": [
    "%run test.py"
   ]
  },
  {
   "cell_type": "code",
   "execution_count": null,
   "metadata": {},
   "outputs": [],
   "source": []
  }
 ],
 "metadata": {
  "kernelspec": {
   "display_name": "Pangeo (Python 3.6)",
   "language": "python",
   "name": "pangeo-3.6"
  },
  "language_info": {
   "codemirror_mode": {
    "name": "ipython",
    "version": 3
   },
   "file_extension": ".py",
   "mimetype": "text/x-python",
   "name": "python",
   "nbconvert_exporter": "python",
   "pygments_lexer": "ipython3",
   "version": "3.6.7"
  }
 },
 "nbformat": 4,
 "nbformat_minor": 2
}
