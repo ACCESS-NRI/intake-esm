{
 "cells": [
  {
   "cell_type": "markdown",
   "metadata": {},
   "source": [
    "# Want to add a new datafile type to Intake-ESM?\n",
    "\n",
    "This tutorial documents the work flow for adding [NA-Cordex data](https://na-cordex.org/) to intake-esm. \n",
    "\n",
    "The following steps will be replicable for your data catalogue of choice:"
   ]
  },
  {
   "cell_type": "markdown",
   "metadata": {},
   "source": [
    "## Step 1: Select Attribute for Colection Columns\n",
    "Make sure you understand the formatting and attributes of your dataset.\n",
    "Does your dataset follow a naming convention/template for datafiles? \n",
    "\n",
    "\n",
    "Each data file name in the NA-CORDEX collection contains its attributes in a set order \"[variable].[experiment].[global_climate_model].[regional_climate_model].[frequency].[grid].[bias_corrected_or_raw].nc\".\n"
   ]
  },
  {
   "cell_type": "markdown",
   "metadata": {},
   "source": [
    "## Step 2: Generate .yaml File Listing Collection Columns\n",
    "\n",
    "This .yaml file should be housed inside the collections folder. For our cordex data the full file path is: `intake_esm/collection_defs/cordex.yaml`.\n",
    "\n",
    "\n",
    "Our column names, listed under collection_columns, contain all of the attributes mentioned in Step 1, plus resource, resource_type, direct_access, file_fullpath, file_basename, and file_dirname. These are columns we recommend for any dataset.\n",
    "\n",
    "Your .yaml file should follow the same template as bellow, but with the items listed under collection_columns appropriate for your data."
   ]
  },
  {
   "cell_type": "markdown",
   "metadata": {},
   "source": [
    "```yaml\n",
    "collections:\n",
    "  cordex:\n",
    "    collection_columns:\n",
    "    - resource\n",
    "    - resource_type\n",
    "    - direct_access\n",
    "    - variable\n",
    "    - experiment \n",
    "    - global_climate_model\n",
    "    - regional_climate_model    \n",
    "    - frequency\n",
    "    - grid\n",
    "    - bias_corrected_or_raw\n",
    "    - file_fullpath\n",
    "    - file_basename\n",
    "    - file_dirname\n",
    "    order_by_columns:\n",
    "      - file_fullpath\n",
    "    required_columns:\n",
    "      - file_fullpath\n",
    "```   "
   ]
  },
  {
   "cell_type": "markdown",
   "metadata": {},
   "source": [
    "## Step 3: Create a Another .yaml File\n",
    "\n",
    "This file is external input, not a part of the package, just external input. We housed this file in a new test directory, `intake_esm/tests/cordex` and named it `cordex-collection-input.yaml`.\n",
    "\n",
    "This .yaml file requires the following keys: **name**, **collection_type**, and **data_sources**.\n",
    "\n",
    "Here is a description of all of the assigned keys in our cordex-collection-input.yaml file:\n",
    "\n",
    "- **name** - What is a meaninful name that ponts to this dataset? In this example, this is 'NA-CORDEX.'\n",
    "\n",
    "- **collection_type** - What is the shorthand name you will use while coding? This should match the first key from the .yaml file in Step 2. Here it is 'cordex'\n",
    "\n",
    "- **data_sources**. - Where should intake-esm look for your data? This can point to more than one directory, but in this example we have only one key, here named 'CORDEX-Data'. Within the data_source 'CORDEX-DATA' we point to locations. 'locations' is list of dictionaries, each with the following keys:\n",
    "\n",
    "    - **name** - For us, all of our data is on the GLADE file storage system so we name this location 'GLADE.' **It is very important that the combination of your data_source key and location key are unique**, so the combination of 'CORDEX-Data' and 'GLADE' should not be repeated inside this .yaml file.\n",
    "\n",
    "    - **loc_type** - How is this data stored? Typically data is on a posix file system, but if the data is on Tape or Cloud Storage, you might have a different answer here.   \n",
    "\n",
    "    - **direct_access** - Here this is set to 'True'    \n",
    "\n",
    "    - **urlpath** - The root directory that contains your data. If data does not share a root directory, you will want to have several items in the locations list.\n",
    "    \n",
    "Below is what our .yaml file looks like for the cordex data:"
   ]
  },
  {
   "cell_type": "markdown",
   "metadata": {},
   "source": [
    "```yaml\n",
    "name: NA-CORDEX\n",
    "collection_type: cordex\n",
    "data_sources:\n",
    "  CORDEX-Data:\n",
    "    locations:\n",
    "      - name: GLADE\n",
    "        loc_type: posix\n",
    "        direct_access: True\n",
    "        urlpath: /glade/collections/cdg/data/cordex/data/\n",
    "        ```"
   ]
  },
  {
   "cell_type": "markdown",
   "metadata": {},
   "source": [
    "Here we display how intake-esm will interpret the structure of that yaml file. This maybe easier to understand for some.\n",
    "```\n",
    "{'name': 'NA-CORDEX',\n",
    " 'collection_type': 'cordex',\n",
    " 'data_sources': {'CORDEX-Data': {'locations': [{'name': 'GLADE',\n",
    "     'loc_type': 'posix',\n",
    "     'direct_access': True,\n",
    "     'urlpath': '/glade/collections/cdg/data/cordex/data/'}]}}}\n",
    "     ```"
   ]
  },
  {
   "cell_type": "markdown",
   "metadata": {},
   "source": [
    "## Step 4: Create a .py Script Containing Rules for Gathering Attributes\n",
    "\n",
    "Inside the `intake-esm/intake_esm` directory create a new .py file, here called `cordex.py`. This file contains the rules for filling the columns (determined by the .yaml file in Step 2) via the information found in each datafile name.\n",
    "\n",
    "Inside the file there are two classes: **Collection** and **Source**. Here `CORDEXCollection` and `CORDEXSource`."
   ]
  },
  {
   "cell_type": "markdown",
   "metadata": {},
   "source": [
    "### Step 4a: Writing the Collection Class\n",
    "\n",
    "The Collection Class, in our script called `CORDEXCollection` inherits from base 'Collection' class, but we still have to implement the method that determines how to get attributes from filename."
   ]
  },
  {
   "cell_type": "markdown",
   "metadata": {},
   "source": [
    "This is the starting point, any data formatting will have at least this skeleton of a structure: \n",
    "\n",
    "```python\n",
    "class CORDEXCollection(Collection):\n",
    "\n",
    "    __doc__ = docstrings.with_indents(\n",
    "        \"\"\" Builds a NA-CORDEX collection for data\n",
    "        stored on NCAR's GLADE\n",
    "    %(Collection.parameters)s\n",
    "    \"\"\"\n",
    "    )\n",
    "\n",
    "    def _get_file_attrs(self, filepath):\n",
    "        file_basename = os.path.basename(filepath)\n",
    "        fs = file_basename.split('.')\n",
    "\n",
    "        keys = list(set(self.columns) - set(['resource', 'resource_type', 'direct_access']))\n",
    "\n",
    "        fileparts = {key: None for key in keys}\n",
    "        fileparts['file_basename'] = file_basename\n",
    "        fileparts['file_dirname'] = os.path.dirname(filepath) + '/'\n",
    "        fileparts['file_fullpath'] = filepath\n",
    "\n",
    "       \n",
    "        return fileparts\n",
    "```"
   ]
  },
  {
   "cell_type": "markdown",
   "metadata": {},
   "source": [
    "In our method, within the `_get_file_attrs` function, we define a 'filename_template' to retrieve the attribute components of the filename. Then the `_reverse_filename_format` function maps these attributes to the collection columns.\n",
    "\n",
    "```python\n",
    "class CORDEXCollection(Collection):\n",
    "\n",
    "    __doc__ = docstrings.with_indents(\n",
    "        \"\"\" Builds a NA-CORDEX collection for data\n",
    "        stored on NCAR's GLADE\n",
    "    %(Collection.parameters)s\n",
    "    \"\"\"\n",
    "    )\n",
    "\n",
    "    def _get_file_attrs(self, filepath):\n",
    "        file_basename = os.path.basename(filepath)\n",
    "        fs = file_basename.split('.')\n",
    "\n",
    "        keys = list(set(self.columns) - set(['resource', 'resource_type', 'direct_access']))\n",
    "\n",
    "        fileparts = {key: None for key in keys}\n",
    "        fileparts['file_basename'] = file_basename\n",
    "        fileparts['file_dirname'] = os.path.dirname(filepath) + '/'\n",
    "        fileparts['file_fullpath'] = filepath\n",
    "        \n",
    "        filename_template = '{variable}.{experiment}.{global_climate_model}.{regional_climate_model}.{frequency}.{grid}.{bias_corrected_or_raw}.nc'\n",
    "        \n",
    "        f = CORDEXCollection._reverse_filename_format(file_basename, filename_template)\n",
    "        fileparts.update(f)\n",
    "            \n",
    "        return fileparts\n",
    "    ```"
   ]
  },
  {
   "cell_type": "markdown",
   "metadata": {},
   "source": [
    "An example output of fileparts from the file 'uas_hist_CanESM2_CRCM5-UQAM_day_NAM-44i_raw.nc' looks like:\n",
    "\n",
    "```\n",
    "{'variable': 'uas',\n",
    " 'experiment': 'hist',\n",
    " 'global_climate_model': 'CanESM2',\n",
    " 'regional_climate_model': 'CRCM5-UQAM',\n",
    " 'frequency': 'day',\n",
    " 'grid': 'NAM-44i',\n",
    " 'is_bias_corrected': 'raw'}\n",
    " ```"
   ]
  },
  {
   "cell_type": "markdown",
   "metadata": {},
   "source": [
    "#### **Not Done Yet! Now go into intake_esm/core.py and add the following lines:**\n",
    "\n",
    "**1)** Near the top of the script you will find a list of importing Collection classes from each data type's .py files.  So now we add:\n",
    "```python\n",
    "from .cordex import CORDEXCollection\n",
    "```\n",
    "\n",
    "**2)** Then you will find a collecton_types dictionary:\n",
    "\n",
    "```python\n",
    "    collection_types = {\n",
    "        'cesm': CESMCollection,\n",
    "        'cesm-aws': CESMAWSCollection,\n",
    "        'cmip5': CMIP5Collection,\n",
    "        'cmip6': CMIP6Collection,\n",
    "        'mpige': MPIGECollection,\n",
    "        'gmet': GMETCollection,\n",
    "        'era5': ERA5Collection,\n",
    "    }\n",
    " ```\n",
    "    \n",
    "    Add an element for your new collection:\n",
    "\n",
    "```python\n",
    "    collection_types = {\n",
    "        'cesm': CESMCollection,\n",
    "        'cesm-aws': CESMAWSCollection,\n",
    "        'cmip5': CMIP5Collection,\n",
    "        'cmip6': CMIP6Collection,\n",
    "        'mpige': MPIGECollection,\n",
    "        'gmet': GMETCollection,\n",
    "        'era5': ERA5Collection,\n",
    "        'cordex': CORDEXCollection,\n",
    "    }\n",
    " ```"
   ]
  },
  {
   "cell_type": "markdown",
   "metadata": {},
   "source": [
    "### Step 4b: Writing the Source Class"
   ]
  },
  {
   "cell_type": "markdown",
   "metadata": {},
   "source": [
    "The Source Class, in our cordex.py script called `CORDEXSource`. \n",
    "\n",
    "First you need to make some decisions about what **dataset_fields** consitute unique datasets that are unlikely to be concatinated together (you probably wouldn't put data gridded differently in the same dataset, for example). In our case we chose 5 columns: global_climate_model, regional_climate_model, frequency', grid', and bias_corrected_or_raw.\n",
    "\n",
    "You also need to decide how your data may be grouped. If you have multiple ensemble members that share all other attributes, you might want to group them together - this was not the case for the cordex data. Look inside `source.py` to understand more of the build-in functionality.\n",
    "\n",
    "Below we have the CORDEXSource class:"
   ]
  },
  {
   "cell_type": "markdown",
   "metadata": {},
   "source": [
    "```python\n",
    "class CORDEXSource(BaseSource):\n",
    "    name = 'cordex'\n",
    "    partition_access = True\n",
    "\n",
    "    def _open_dataset(self):\n",
    "        # fields which define a single dataset\n",
    "        dataset_fields = ['global_climate_model', 'regional_climate_model', 'frequency', 'grid', 'bias_corrected_or_raw']\n",
    "\n",
    "        kwargs = self._validate_kwargs(self.kwargs)\n",
    "\n",
    "        all_dsets = {}\n",
    "        query_results = get_subset(self.collection_name, self.query)\n",
    "        \n",
    "        file_fullpath_column_name = 'file_fullpath'\n",
    "        file_basename_column_name = 'file_basename'\n",
    "        variable_column_name = 'variable'\n",
    "        \n",
    "        query_results = _ensure_file_access(\n",
    "            query_results, file_fullpath_column_name, file_basename_column_name\n",
    "        )\n",
    "        grouped = query_results.groupby(dataset_fields)\n",
    "        for dset_keys, dset_files in tqdm(grouped, desc='dataset'):\n",
    "            dset_id = '.'.join(dset_keys)\n",
    "            var_dsets = []\n",
    "            for v_id, v_files in dset_files.groupby(variable_column_name):\n",
    "                urlpath_ei_vi = v_files[file_fullpath_column_name].tolist()\n",
    "                dsets = [\n",
    "                    aggregate.open_dataset_delayed(\n",
    "                        url,\n",
    "                        data_vars=[v_id],\n",
    "                        chunks=kwargs['chunks'],\n",
    "                        decode_times=kwargs['decode_times'],\n",
    "                    )\n",
    "                    for url in urlpath_ei_vi\n",
    "                ]\n",
    "\n",
    "                var_dset_i = aggregate.concat_time_levels(\n",
    "                    dsets,\n",
    "                    time_coord_name_default=kwargs['time_coord_name'],\n",
    "                    override_coords=kwargs['override_coords'],\n",
    "                )\n",
    "                var_dsets.append(var_dset_i)\n",
    "\n",
    "            _dset_i = aggregate.merge(dsets=var_dsets)\n",
    "            all_dsets[dset_id] = _dset_i\n",
    "\n",
    "        self._ds = all_dsets\n",
    "        ```"
   ]
  },
  {
   "cell_type": "markdown",
   "metadata": {},
   "source": [
    "#### **Now go into `collection_defs/source.yaml` and add the new Source class to the list of sources:**\n",
    "\n",
    "**1)** It should look like this:\n",
    "\n",
    "```python\n",
    "sources:\n",
    "  cesm: intake_esm.cesm.CESMSource\n",
    "  cesm-aws: intake_esm.cesm_aws.CESMAWSSource\n",
    "  cmip5: intake_esm.cmip.CMIP5Source\n",
    "  cmip6: intake_esm.cmip.CMIP6Source\n",
    "  mpige: intake_esm.mpige.MPIGESource\n",
    "  gmet: intake_esm.gmet.GMETSource\n",
    "  era5: intake_esm.era5.ERA5Source\n",
    "  cordex: intake_esm.cordex.CORDEXSource\n",
    "```\n"
   ]
  },
  {
   "cell_type": "markdown",
   "metadata": {},
   "source": [
    "## Step 5: Testing"
   ]
  },
  {
   "cell_type": "markdown",
   "metadata": {},
   "source": [
    "#### **Congratulations! You have added a new datatype to the intake-esm ecosystem!**\n",
    "Let's test the collection:"
   ]
  },
  {
   "cell_type": "code",
   "execution_count": 2,
   "metadata": {},
   "outputs": [
    {
     "name": "stderr",
     "output_type": "stream",
     "text": [
      "/glade/u/home/jkent/miniconda3/envs/pangeo/lib/python3.6/site-packages/tqdm/autonotebook/__init__.py:14: TqdmExperimentalWarning: Using `tqdm.autonotebook.tqdm` in notebook mode. Use `tqdm.tqdm` instead to force console mode (e.g. in jupyter console)\n",
      "  \" (e.g. in jupyter console)\", TqdmExperimentalWarning)\n"
     ]
    }
   ],
   "source": [
    "import intake\n",
    "import yaml\n",
    "import pandas as pd\n",
    "from intake_esm import config\n",
    "from distributed.utils import format_bytes"
   ]
  },
  {
   "cell_type": "markdown",
   "metadata": {},
   "source": [
    "**Note: Import intake_esm and its components after intake, not the other way around.**\n",
    "\n",
    "This is because intake_esm is a plug-in for intake.\n",
    "\n",
    "**1)** Let's generate our collection `col`:"
   ]
  },
  {
   "cell_type": "code",
   "execution_count": 3,
   "metadata": {},
   "outputs": [
    {
     "name": "stdout",
     "output_type": "stream",
     "text": [
      "Getting file listing: CORDEX-Data:GLADE:posix:/glade/collections/cdg/data/cordex/data/\n"
     ]
    },
    {
     "data": {
      "application/vnd.jupyter.widget-view+json": {
       "model_id": "9274efe091b5496aac1e218d36bae0e1",
       "version_major": 2,
       "version_minor": 0
      },
      "text/plain": [
       "HBox(children=(IntProgress(value=0, description='file listing', max=16897, style=ProgressStyle(description_wid…"
      ]
     },
     "metadata": {},
     "output_type": "display_data"
    },
    {
     "name": "stdout",
     "output_type": "stream",
     "text": [
      "\n",
      "<class 'pandas.core.frame.DataFrame'>\n",
      "Int64Index: 16897 entries, 14130 to 11851\n",
      "Data columns (total 13 columns):\n",
      "resource                  16897 non-null object\n",
      "resource_type             16897 non-null object\n",
      "direct_access             16897 non-null bool\n",
      "variable                  16897 non-null object\n",
      "experiment                16897 non-null object\n",
      "global_climate_model      16897 non-null object\n",
      "regional_climate_model    16897 non-null object\n",
      "frequency                 16897 non-null object\n",
      "grid                      16897 non-null object\n",
      "bias_corrected_or_raw     16897 non-null object\n",
      "file_fullpath             16897 non-null object\n",
      "file_basename             16897 non-null object\n",
      "file_dirname              16897 non-null object\n",
      "dtypes: bool(1), object(12)\n",
      "memory usage: 1.7+ MB\n",
      "None\n",
      "Persisting NA-CORDEX at : /glade/u/home/jkent/.intake_esm/collections/cordex/NA-CORDEX.cordex.csv\n"
     ]
    }
   ],
   "source": [
    "config.get('collections.cordex')\n",
    "\n",
    "test = yaml.safe_load('''name: NA-CORDEX\n",
    "collection_type: cordex\n",
    "data_sources:\n",
    "  CORDEX-Data:\n",
    "    locations:\n",
    "      - name: GLADE\n",
    "        loc_type: posix\n",
    "        direct_access: True\n",
    "        urlpath: /glade/collections/cdg/data/cordex/data/''')        \n",
    "\n",
    "col = intake.open_esm_metadatastore(collection_input_definition=test, overwrite_existing=True)"
   ]
  },
  {
   "cell_type": "markdown",
   "metadata": {},
   "source": [
    "**2)** And take a look, make sure the column headings are as specified. "
   ]
  },
  {
   "cell_type": "code",
   "execution_count": 4,
   "metadata": {},
   "outputs": [
    {
     "data": {
      "text/html": [
       "<div>\n",
       "<style scoped>\n",
       "    .dataframe tbody tr th:only-of-type {\n",
       "        vertical-align: middle;\n",
       "    }\n",
       "\n",
       "    .dataframe tbody tr th {\n",
       "        vertical-align: top;\n",
       "    }\n",
       "\n",
       "    .dataframe thead th {\n",
       "        text-align: right;\n",
       "    }\n",
       "</style>\n",
       "<table border=\"1\" class=\"dataframe\">\n",
       "  <thead>\n",
       "    <tr style=\"text-align: right;\">\n",
       "      <th></th>\n",
       "      <th>resource</th>\n",
       "      <th>resource_type</th>\n",
       "      <th>direct_access</th>\n",
       "      <th>variable</th>\n",
       "      <th>experiment</th>\n",
       "      <th>global_climate_model</th>\n",
       "      <th>regional_climate_model</th>\n",
       "      <th>frequency</th>\n",
       "      <th>grid</th>\n",
       "      <th>bias_corrected_or_raw</th>\n",
       "      <th>file_fullpath</th>\n",
       "      <th>file_basename</th>\n",
       "      <th>file_dirname</th>\n",
       "    </tr>\n",
       "  </thead>\n",
       "  <tbody>\n",
       "    <tr>\n",
       "      <th>14130</th>\n",
       "      <td>CORDEX-Data:GLADE:posix:/glade/collections/cdg...</td>\n",
       "      <td>posix</td>\n",
       "      <td>True</td>\n",
       "      <td>huss</td>\n",
       "      <td>hist</td>\n",
       "      <td>CanESM2</td>\n",
       "      <td>CRCM5-UQAM</td>\n",
       "      <td>day</td>\n",
       "      <td>NAM-22i</td>\n",
       "      <td>kddm-METDATA</td>\n",
       "      <td>/glade/collections/cdg/data/cordex/data/kddm-M...</td>\n",
       "      <td>huss.hist.CanESM2.CRCM5-UQAM.day.NAM-22i.kddm-...</td>\n",
       "      <td>/glade/collections/cdg/data/cordex/data/kddm-M...</td>\n",
       "    </tr>\n",
       "    <tr>\n",
       "      <th>14125</th>\n",
       "      <td>CORDEX-Data:GLADE:posix:/glade/collections/cdg...</td>\n",
       "      <td>posix</td>\n",
       "      <td>True</td>\n",
       "      <td>prec</td>\n",
       "      <td>hist</td>\n",
       "      <td>CanESM2</td>\n",
       "      <td>CRCM5-UQAM</td>\n",
       "      <td>day</td>\n",
       "      <td>NAM-22i</td>\n",
       "      <td>kddm-METDATA</td>\n",
       "      <td>/glade/collections/cdg/data/cordex/data/kddm-M...</td>\n",
       "      <td>prec.hist.CanESM2.CRCM5-UQAM.day.NAM-22i.kddm-...</td>\n",
       "      <td>/glade/collections/cdg/data/cordex/data/kddm-M...</td>\n",
       "    </tr>\n",
       "    <tr>\n",
       "      <th>14128</th>\n",
       "      <td>CORDEX-Data:GLADE:posix:/glade/collections/cdg...</td>\n",
       "      <td>posix</td>\n",
       "      <td>True</td>\n",
       "      <td>rsds</td>\n",
       "      <td>hist</td>\n",
       "      <td>CanESM2</td>\n",
       "      <td>CRCM5-UQAM</td>\n",
       "      <td>day</td>\n",
       "      <td>NAM-22i</td>\n",
       "      <td>kddm-METDATA</td>\n",
       "      <td>/glade/collections/cdg/data/cordex/data/kddm-M...</td>\n",
       "      <td>rsds.hist.CanESM2.CRCM5-UQAM.day.NAM-22i.kddm-...</td>\n",
       "      <td>/glade/collections/cdg/data/cordex/data/kddm-M...</td>\n",
       "    </tr>\n",
       "    <tr>\n",
       "      <th>14129</th>\n",
       "      <td>CORDEX-Data:GLADE:posix:/glade/collections/cdg...</td>\n",
       "      <td>posix</td>\n",
       "      <td>True</td>\n",
       "      <td>tmax</td>\n",
       "      <td>hist</td>\n",
       "      <td>CanESM2</td>\n",
       "      <td>CRCM5-UQAM</td>\n",
       "      <td>day</td>\n",
       "      <td>NAM-22i</td>\n",
       "      <td>kddm-METDATA</td>\n",
       "      <td>/glade/collections/cdg/data/cordex/data/kddm-M...</td>\n",
       "      <td>tmax.hist.CanESM2.CRCM5-UQAM.day.NAM-22i.kddm-...</td>\n",
       "      <td>/glade/collections/cdg/data/cordex/data/kddm-M...</td>\n",
       "    </tr>\n",
       "    <tr>\n",
       "      <th>14131</th>\n",
       "      <td>CORDEX-Data:GLADE:posix:/glade/collections/cdg...</td>\n",
       "      <td>posix</td>\n",
       "      <td>True</td>\n",
       "      <td>tmin</td>\n",
       "      <td>hist</td>\n",
       "      <td>CanESM2</td>\n",
       "      <td>CRCM5-UQAM</td>\n",
       "      <td>day</td>\n",
       "      <td>NAM-22i</td>\n",
       "      <td>kddm-METDATA</td>\n",
       "      <td>/glade/collections/cdg/data/cordex/data/kddm-M...</td>\n",
       "      <td>tmin.hist.CanESM2.CRCM5-UQAM.day.NAM-22i.kddm-...</td>\n",
       "      <td>/glade/collections/cdg/data/cordex/data/kddm-M...</td>\n",
       "    </tr>\n",
       "  </tbody>\n",
       "</table>\n",
       "</div>"
      ],
      "text/plain": [
       "                                                resource resource_type  \\\n",
       "14130  CORDEX-Data:GLADE:posix:/glade/collections/cdg...         posix   \n",
       "14125  CORDEX-Data:GLADE:posix:/glade/collections/cdg...         posix   \n",
       "14128  CORDEX-Data:GLADE:posix:/glade/collections/cdg...         posix   \n",
       "14129  CORDEX-Data:GLADE:posix:/glade/collections/cdg...         posix   \n",
       "14131  CORDEX-Data:GLADE:posix:/glade/collections/cdg...         posix   \n",
       "\n",
       "       direct_access variable experiment global_climate_model  \\\n",
       "14130           True     huss       hist              CanESM2   \n",
       "14125           True     prec       hist              CanESM2   \n",
       "14128           True     rsds       hist              CanESM2   \n",
       "14129           True     tmax       hist              CanESM2   \n",
       "14131           True     tmin       hist              CanESM2   \n",
       "\n",
       "      regional_climate_model frequency     grid bias_corrected_or_raw  \\\n",
       "14130             CRCM5-UQAM       day  NAM-22i          kddm-METDATA   \n",
       "14125             CRCM5-UQAM       day  NAM-22i          kddm-METDATA   \n",
       "14128             CRCM5-UQAM       day  NAM-22i          kddm-METDATA   \n",
       "14129             CRCM5-UQAM       day  NAM-22i          kddm-METDATA   \n",
       "14131             CRCM5-UQAM       day  NAM-22i          kddm-METDATA   \n",
       "\n",
       "                                           file_fullpath  \\\n",
       "14130  /glade/collections/cdg/data/cordex/data/kddm-M...   \n",
       "14125  /glade/collections/cdg/data/cordex/data/kddm-M...   \n",
       "14128  /glade/collections/cdg/data/cordex/data/kddm-M...   \n",
       "14129  /glade/collections/cdg/data/cordex/data/kddm-M...   \n",
       "14131  /glade/collections/cdg/data/cordex/data/kddm-M...   \n",
       "\n",
       "                                           file_basename  \\\n",
       "14130  huss.hist.CanESM2.CRCM5-UQAM.day.NAM-22i.kddm-...   \n",
       "14125  prec.hist.CanESM2.CRCM5-UQAM.day.NAM-22i.kddm-...   \n",
       "14128  rsds.hist.CanESM2.CRCM5-UQAM.day.NAM-22i.kddm-...   \n",
       "14129  tmax.hist.CanESM2.CRCM5-UQAM.day.NAM-22i.kddm-...   \n",
       "14131  tmin.hist.CanESM2.CRCM5-UQAM.day.NAM-22i.kddm-...   \n",
       "\n",
       "                                            file_dirname  \n",
       "14130  /glade/collections/cdg/data/cordex/data/kddm-M...  \n",
       "14125  /glade/collections/cdg/data/cordex/data/kddm-M...  \n",
       "14128  /glade/collections/cdg/data/cordex/data/kddm-M...  \n",
       "14129  /glade/collections/cdg/data/cordex/data/kddm-M...  \n",
       "14131  /glade/collections/cdg/data/cordex/data/kddm-M...  "
      ]
     },
     "execution_count": 4,
     "metadata": {},
     "output_type": "execute_result"
    }
   ],
   "source": [
    "col.df.head()"
   ]
  },
  {
   "cell_type": "markdown",
   "metadata": {},
   "source": [
    "**3)** And search along attributes."
   ]
  },
  {
   "cell_type": "code",
   "execution_count": 9,
   "metadata": {},
   "outputs": [],
   "source": [
    "query = col.search(variable='uas', global_climate_model = 'CanESM2', regional_climate_model = 'CRCM5-UQAM', experiment = 'hist', frequency = 'day', grid='NAM-44i').query_results.head()"
   ]
  },
  {
   "cell_type": "markdown",
   "metadata": {},
   "source": [
    "**4)** Then turn the search results into an xarray dataset."
   ]
  },
  {
   "cell_type": "code",
   "execution_count": 10,
   "metadata": {},
   "outputs": [
    {
     "ename": "TypeError",
     "evalue": "to_xarray() got an unexpected keyword argument 'chunks'",
     "output_type": "error",
     "traceback": [
      "\u001b[0;31m---------------------------------------------------------------------------\u001b[0m",
      "\u001b[0;31mTypeError\u001b[0m                                 Traceback (most recent call last)",
      "\u001b[0;32m<ipython-input-10-1414bc8072d4>\u001b[0m in \u001b[0;36m<module>\u001b[0;34m\u001b[0m\n\u001b[0;32m----> 1\u001b[0;31m \u001b[0mdset\u001b[0m \u001b[0;34m=\u001b[0m \u001b[0mquery\u001b[0m\u001b[0;34m.\u001b[0m\u001b[0mto_xarray\u001b[0m\u001b[0;34m(\u001b[0m\u001b[0mchunks\u001b[0m \u001b[0;34m=\u001b[0m \u001b[0;34m{\u001b[0m\u001b[0;34m'lon'\u001b[0m\u001b[0;34m:\u001b[0m\u001b[0;36m50\u001b[0m\u001b[0;34m}\u001b[0m\u001b[0;34m)\u001b[0m\u001b[0;34m\u001b[0m\u001b[0;34m\u001b[0m\u001b[0m\n\u001b[0m",
      "\u001b[0;31mTypeError\u001b[0m: to_xarray() got an unexpected keyword argument 'chunks'"
     ]
    }
   ],
   "source": [
    "dset = query.to_xarray(chunks = {'lon':50})"
   ]
  },
  {
   "cell_type": "markdown",
   "metadata": {},
   "source": [
    "**5)** Listing the remaining keys can tell us which datasets are left without having to sift through their attributes"
   ]
  },
  {
   "cell_type": "code",
   "execution_count": 16,
   "metadata": {},
   "outputs": [
    {
     "data": {
      "text/plain": [
       "dict_keys(['CanESM2.CRCM5-UQAM.day.NAM-44i.kddm-METDATA', 'CanESM2.CRCM5-UQAM.day.NAM-44i.mbcn-METDATA', 'CanESM2.CRCM5-UQAM.day.NAM-44i.raw'])"
      ]
     },
     "execution_count": 16,
     "metadata": {},
     "output_type": "execute_result"
    }
   ],
   "source": [
    "dset.keys()"
   ]
  },
  {
   "cell_type": "code",
   "execution_count": 17,
   "metadata": {},
   "outputs": [
    {
     "data": {
      "text/plain": [
       "<xarray.Dataset>\n",
       "Dimensions:    (bnds: 2, lat: 129, lon: 300, time: 20440)\n",
       "Coordinates:\n",
       "  * time       (time) object 1950-01-01 12:00:00 ... 2005-12-31 12:00:00\n",
       "  * lat        (lat) float64 12.25 12.75 13.25 13.75 ... 74.75 75.25 75.75 76.25\n",
       "  * lon        (lon) float64 -171.8 -171.2 -170.8 ... -23.25 -22.75 -22.25\n",
       "    time_bnds  (time, bnds) object dask.array<shape=(20440, 2), chunksize=(20440, 2)>\n",
       "Dimensions without coordinates: bnds\n",
       "Data variables:\n",
       "    uas        (time, lat, lon) float32 dask.array<shape=(20440, 129, 300), chunksize=(20440, 129, 50)>\n",
       "Attributes:\n",
       "    Conventions:                    CF-1.4\n",
       "    institution:                    Universite du Quebec a Montreal\n",
       "    contact:                        Winger.Katja@uqam.ca\n",
       "    comment:                        CORDEX North America CRCM5 v333 0.44 deg ...\n",
       "    model:                          CRCM5 (dynamics GEM v_3.3.3, physics RPN ...\n",
       "    model_grid:                     rotated lat-lon 236x241 incl. 10p pilot a...\n",
       "    geophysical_fields:             orography: USGS / land use cover: USGS / ...\n",
       "    physics:                        land: CLASS3.5+, 26L, bottom at 60m / lak...\n",
       "    forcing:                        GHG: CO2,CH4,N2O,CFC11,effective CFC12\n",
       "    creation_date:                  2012-09-06\n",
       "    experiment:                     historical\n",
       "    experiment_id:                  historical\n",
       "    driving_model_ensemble_member:  r1i1p1\n",
       "    driving_experiment_name:        historical\n",
       "    frequency:                      day\n",
       "    institute_id:                   UQAM\n",
       "    rcm_version_id:                 v1\n",
       "    project_id:                     CORDEX\n",
       "    CORDEX_domain:                  NAM-44\n",
       "    product:                        output\n",
       "    references:                     http://www.mrcc.uqam.ca\n",
       "    history:                        2019-08-01 14:30:53.673782 xarray.open_da...\n",
       "    NCO:                            netCDF Operators version 4.7.4 (http://nc...\n",
       "    model_id:                       UQAM-CRCM5\n",
       "    driving_experiment:             CCCma-CanESM2,historical,r1i1p1\n",
       "    driving_model_id:               CCCma-CanESM2\n",
       "    history_of_appended_files:      Wed Sep  5 00:03:57 2018: Appended file t...\n",
       "    tracking_id:                    5718ce6b-2ffb-4efb-9b49-f123e4184106\n",
       "    nco_openmp_thread_number:       1\n",
       "    id:                             doi:10.5065/D6SJ1JCH\n",
       "    title:                          NA-CORDEX Raw NAM-44i CRCM5-UQAM CanESM2 ...\n",
       "    version:                        1.0"
      ]
     },
     "execution_count": 17,
     "metadata": {},
     "output_type": "execute_result"
    }
   ],
   "source": [
    "dset['CanESM2.CRCM5-UQAM.day.NAM-44i.raw']"
   ]
  },
  {
   "cell_type": "markdown",
   "metadata": {},
   "source": [
    "How big is each chunk of our new dataset?"
   ]
  },
  {
   "cell_type": "code",
   "execution_count": 19,
   "metadata": {},
   "outputs": [
    {
     "data": {
      "text/plain": [
       "'131.84 MB'"
      ]
     },
     "execution_count": 19,
     "metadata": {},
     "output_type": "execute_result"
    }
   ],
   "source": [
    "format_bytes(20440*129*50)"
   ]
  }
 ],
 "metadata": {
  "kernelspec": {
   "display_name": "Python [conda env:pangeo]",
   "language": "python",
   "name": "conda-env-pangeo-py"
  },
  "language_info": {
   "codemirror_mode": {
    "name": "ipython",
    "version": 3
   },
   "file_extension": ".py",
   "mimetype": "text/x-python",
   "name": "python",
   "nbconvert_exporter": "python",
   "pygments_lexer": "ipython3",
   "version": "3.6.7"
  }
 },
 "nbformat": 4,
 "nbformat_minor": 2
}
