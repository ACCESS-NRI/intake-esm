{
 "cells": [
  {
   "cell_type": "code",
   "execution_count": 1,
   "metadata": {},
   "outputs": [],
   "source": [
    "a = \"/glade/collections/cmip/cmip5/output1/NCAR/CCSM4/decadal2006/mon/atmos/Amon/r10i1p1/v20120630/tas/tas_Amon_CCSM4_decadal2006_r10i1p1_200601-203512.nc\""
   ]
  },
  {
   "cell_type": "code",
   "execution_count": 2,
   "metadata": {},
   "outputs": [],
   "source": [
    "b = \"/glade/collections/cmip/CMIP6/CMIP/NASA-GISS/GISS-E2-1-G/historical/r10i1p1f1/Amon/tasmax/gn/v20180830/tasmax/tasmax_Amon_GISS-E2-1-G_historical_r10i1p1f1_gn_185001-190012.nc\""
   ]
  },
  {
   "cell_type": "code",
   "execution_count": 3,
   "metadata": {},
   "outputs": [
    {
     "data": {
      "text/plain": [
       "['',\n",
       " 'glade',\n",
       " 'collections',\n",
       " 'cmip',\n",
       " 'cmip5',\n",
       " 'output1',\n",
       " 'NCAR',\n",
       " 'CCSM4',\n",
       " 'decadal2006',\n",
       " 'mon',\n",
       " 'atmos',\n",
       " 'Amon',\n",
       " 'r10i1p1',\n",
       " 'v20120630',\n",
       " 'tas',\n",
       " 'tas_Amon_CCSM4_decadal2006_r10i1p1_200601-203512.nc']"
      ]
     },
     "execution_count": 3,
     "metadata": {},
     "output_type": "execute_result"
    }
   ],
   "source": [
    "c = a.split(\"/\")\n",
    "c"
   ]
  },
  {
   "cell_type": "code",
   "execution_count": 24,
   "metadata": {},
   "outputs": [],
   "source": [
    "entry_1 = {}"
   ]
  },
  {
   "cell_type": "code",
   "execution_count": 27,
   "metadata": {},
   "outputs": [
    {
     "ename": "KeyError",
     "evalue": "''",
     "output_type": "error",
     "traceback": [
      "\u001b[0;31m---------------------------------------------------------------------------\u001b[0m",
      "\u001b[0;31mKeyError\u001b[0m                                  Traceback (most recent call last)",
      "\u001b[0;32m<ipython-input-27-6e44d2bc451c>\u001b[0m in \u001b[0;36m<module>\u001b[0;34m\u001b[0m\n\u001b[1;32m      1\u001b[0m \u001b[0mentry_1\u001b[0m\u001b[0;34m[\u001b[0m\u001b[0;34m'mip_era'\u001b[0m\u001b[0;34m]\u001b[0m \u001b[0;34m=\u001b[0m \u001b[0;34m'CMIP5'\u001b[0m\u001b[0;34m\u001b[0m\u001b[0;34m\u001b[0m\u001b[0m\n\u001b[0;32m----> 2\u001b[0;31m \u001b[0mentry_1\u001b[0m\u001b[0;34m[\u001b[0m\u001b[0;34m''\u001b[0m\u001b[0;34m]\u001b[0m\u001b[0;34m\u001b[0m\u001b[0;34m\u001b[0m\u001b[0m\n\u001b[0m\u001b[1;32m      3\u001b[0m \u001b[0mentry_1\u001b[0m\u001b[0;34m\u001b[0m\u001b[0;34m\u001b[0m\u001b[0m\n",
      "\u001b[0;31mKeyError\u001b[0m: ''"
     ]
    }
   ],
   "source": [
    "entry_1['mip_era'] = 'CMIP5'\n",
    "entry_1['activity_id'] = \n",
    "entry_1"
   ]
  },
  {
   "cell_type": "code",
   "execution_count": 5,
   "metadata": {},
   "outputs": [
    {
     "data": {
      "text/plain": [
       "['',\n",
       " 'glade',\n",
       " 'collections',\n",
       " 'cmip',\n",
       " 'CMIP6',\n",
       " 'CMIP',\n",
       " 'NASA-GISS',\n",
       " 'GISS-E2-1-G',\n",
       " 'historical',\n",
       " 'r10i1p1f1',\n",
       " 'Amon',\n",
       " 'tasmax',\n",
       " 'gn',\n",
       " 'v20180830',\n",
       " 'tasmax',\n",
       " 'tasmax_Amon_GISS-E2-1-G_historical_r10i1p1f1_gn_185001-190012.nc']"
      ]
     },
     "execution_count": 5,
     "metadata": {},
     "output_type": "execute_result"
    }
   ],
   "source": [
    "d = b.split(\"/\")\n",
    "d"
   ]
  },
  {
   "cell_type": "code",
   "execution_count": 12,
   "metadata": {},
   "outputs": [],
   "source": [
    "entry = {}"
   ]
  },
  {
   "cell_type": "code",
   "execution_count": 22,
   "metadata": {},
   "outputs": [
    {
     "data": {
      "text/plain": [
       "{'mip_era': 'CMIP6',\n",
       " 'activity_id': 'CMIP',\n",
       " 'institution_id': 'NASA-GISS',\n",
       " 'source_id': 'GISS-E2-1-G',\n",
       " 'experiment_id': 'historical',\n",
       " 'member_id': 'r10i1p1f1',\n",
       " 'table_id': 'Amon',\n",
       " 'variable_id': 'tasmax',\n",
       " 'grid_label': 'gn',\n",
       " 'version': 'v20180830'}"
      ]
     },
     "execution_count": 22,
     "metadata": {},
     "output_type": "execute_result"
    }
   ],
   "source": [
    "entry['mip_era'] = d[4]\n",
    "entry['activity_id'] = d[5]\n",
    "entry['institution_id'] = d[6]\n",
    "entry['source_id'] = d[7]\n",
    "entry['experiment_id'] = d[8]\n",
    "entry['member_id'] = d[9]\n",
    "entry['table_id'] = d[10]\n",
    "entry['variable_id'] = d[11]\n",
    "entry['grid_label'] = d[12]\n",
    "entry['version'] = d[13]\n",
    "entry"
   ]
  },
  {
   "cell_type": "code",
   "execution_count": 6,
   "metadata": {},
   "outputs": [
    {
     "data": {
      "text/plain": [
       "(16, 16)"
      ]
     },
     "execution_count": 6,
     "metadata": {},
     "output_type": "execute_result"
    }
   ],
   "source": [
    "len(c), len(d)"
   ]
  },
  {
   "cell_type": "code",
   "execution_count": 7,
   "metadata": {},
   "outputs": [],
   "source": [
    "root_dir = \"/glade/collections/cmip/cmip5\""
   ]
  },
  {
   "cell_type": "code",
   "execution_count": 9,
   "metadata": {},
   "outputs": [
    {
     "data": {
      "text/plain": [
       "5"
      ]
     },
     "execution_count": 9,
     "metadata": {},
     "output_type": "execute_result"
    }
   ],
   "source": [
    "len(root_dir.split(\"/\"))"
   ]
  },
  {
   "cell_type": "code",
   "execution_count": 28,
   "metadata": {},
   "outputs": [],
   "source": [
    "m = 'tas_Amon_CCSM4_decadal2006_r10i1p1_200601-203512.nc'"
   ]
  },
  {
   "cell_type": "code",
   "execution_count": 29,
   "metadata": {},
   "outputs": [
    {
     "data": {
      "text/plain": [
       "['tas', 'Amon', 'CCSM4', 'decadal2006', 'r10i1p1', '200601-203512.nc']"
      ]
     },
     "execution_count": 29,
     "metadata": {},
     "output_type": "execute_result"
    }
   ],
   "source": [
    "m.split(\"_\")"
   ]
  },
  {
   "cell_type": "code",
   "execution_count": 30,
   "metadata": {},
   "outputs": [
    {
     "data": {
      "text/plain": [
       "'200601-203512.nc'"
      ]
     },
     "execution_count": 30,
     "metadata": {},
     "output_type": "execute_result"
    }
   ],
   "source": [
    "n = '200601-203512.nc'\n",
    "n"
   ]
  },
  {
   "cell_type": "code",
   "execution_count": 31,
   "metadata": {},
   "outputs": [
    {
     "data": {
      "text/plain": [
       "['200601-203512', 'nc']"
      ]
     },
     "execution_count": 31,
     "metadata": {},
     "output_type": "execute_result"
    }
   ],
   "source": [
    "n.split(\".\")"
   ]
  },
  {
   "cell_type": "code",
   "execution_count": 32,
   "metadata": {},
   "outputs": [],
   "source": [
    "dic = {'jdjd': 1}"
   ]
  },
  {
   "cell_type": "code",
   "execution_count": 33,
   "metadata": {},
   "outputs": [
    {
     "data": {
      "text/plain": [
       "{'jdjd': 1}"
      ]
     },
     "execution_count": 33,
     "metadata": {},
     "output_type": "execute_result"
    }
   ],
   "source": [
    "dic"
   ]
  },
  {
   "cell_type": "code",
   "execution_count": 40,
   "metadata": {},
   "outputs": [
    {
     "data": {
      "text/plain": [
       "['jdjd']"
      ]
     },
     "execution_count": 40,
     "metadata": {},
     "output_type": "execute_result"
    }
   ],
   "source": [
    "t = list(dic.keys())\n",
    "t"
   ]
  },
  {
   "cell_type": "code",
   "execution_count": 41,
   "metadata": {},
   "outputs": [
    {
     "data": {
      "text/plain": [
       "'jdjd'"
      ]
     },
     "execution_count": 41,
     "metadata": {},
     "output_type": "execute_result"
    }
   ],
   "source": [
    "t[0]"
   ]
  },
  {
   "cell_type": "code",
   "execution_count": 1,
   "metadata": {},
   "outputs": [],
   "source": [
    "import intake"
   ]
  },
  {
   "cell_type": "code",
   "execution_count": 2,
   "metadata": {},
   "outputs": [],
   "source": [
    "from intake_esm import config"
   ]
  },
  {
   "cell_type": "code",
   "execution_count": 8,
   "metadata": {},
   "outputs": [
    {
     "data": {
      "text/plain": [
       "<intake_esm.config.set at 0x11acb86d8>"
      ]
     },
     "execution_count": 8,
     "metadata": {},
     "output_type": "execute_result"
    }
   ],
   "source": [
    "config.set({'database-directory': '../../../tests/test_collections'})"
   ]
  },
  {
   "cell_type": "code",
   "execution_count": 9,
   "metadata": {},
   "outputs": [],
   "source": [
    "c = intake.open_esm_metadatastore( \n",
    "            collection_name='cmip_test_collection', collection_type='cmip' \n",
    "       )     "
   ]
  },
  {
   "cell_type": "code",
   "execution_count": 10,
   "metadata": {},
   "outputs": [
    {
     "data": {
      "text/html": [
       "<div>\n",
       "<style scoped>\n",
       "    .dataframe tbody tr th:only-of-type {\n",
       "        vertical-align: middle;\n",
       "    }\n",
       "\n",
       "    .dataframe tbody tr th {\n",
       "        vertical-align: top;\n",
       "    }\n",
       "\n",
       "    .dataframe thead th {\n",
       "        text-align: right;\n",
       "    }\n",
       "</style>\n",
       "<table border=\"1\" class=\"dataframe\">\n",
       "  <thead>\n",
       "    <tr style=\"text-align: right;\">\n",
       "      <th></th>\n",
       "      <th>ensemble</th>\n",
       "      <th>experiment</th>\n",
       "      <th>file_basename</th>\n",
       "      <th>file_fullpath</th>\n",
       "      <th>frequency</th>\n",
       "      <th>institution</th>\n",
       "      <th>model</th>\n",
       "      <th>realm</th>\n",
       "      <th>files_dirname</th>\n",
       "      <th>variable</th>\n",
       "      <th>version</th>\n",
       "    </tr>\n",
       "  </thead>\n",
       "  <tbody>\n",
       "    <tr>\n",
       "      <th>0</th>\n",
       "      <td>r3i1p1</td>\n",
       "      <td>historical</td>\n",
       "      <td>hfls_Amon_IPSL-CM5A-LR_historical_r3i1p1_18500...</td>\n",
       "      <td>./tests/sample_data/cmip/cmip5/output1/IPSL/IP...</td>\n",
       "      <td>mon</td>\n",
       "      <td>IPSL</td>\n",
       "      <td>IPSL-CM5A-LR</td>\n",
       "      <td>atmos</td>\n",
       "      <td>./tests/sample_data/cmip/cmip5/output1/IPSL/IP...</td>\n",
       "      <td>hfls</td>\n",
       "      <td>v20110406</td>\n",
       "    </tr>\n",
       "    <tr>\n",
       "      <th>1</th>\n",
       "      <td>r3i1p1</td>\n",
       "      <td>rcp85</td>\n",
       "      <td>tasmax_Amon_IPSL-CM5A-LR_rcp85_r3i1p1_200601-2...</td>\n",
       "      <td>./tests/sample_data/cmip/cmip5/output1/IPSL/IP...</td>\n",
       "      <td>mon</td>\n",
       "      <td>IPSL</td>\n",
       "      <td>IPSL-CM5A-LR</td>\n",
       "      <td>atmos</td>\n",
       "      <td>./tests/sample_data/cmip/cmip5/output1/IPSL/IP...</td>\n",
       "      <td>tasmax</td>\n",
       "      <td>v20110726</td>\n",
       "    </tr>\n",
       "    <tr>\n",
       "      <th>2</th>\n",
       "      <td>r7i1p1</td>\n",
       "      <td>historical</td>\n",
       "      <td>hfls_Amon_CNRM-CM5_historical_r7i1p1_195001-20...</td>\n",
       "      <td>./tests/sample_data/cmip/cmip5/output1/CNRM-CE...</td>\n",
       "      <td>mon</td>\n",
       "      <td>CNRM-CERFACS</td>\n",
       "      <td>CNRM-CM5</td>\n",
       "      <td>atmos</td>\n",
       "      <td>./tests/sample_data/cmip/cmip5/output1/CNRM-CE...</td>\n",
       "      <td>hfls</td>\n",
       "      <td>v20110901</td>\n",
       "    </tr>\n",
       "    <tr>\n",
       "      <th>3</th>\n",
       "      <td>r8i1p1</td>\n",
       "      <td>historical</td>\n",
       "      <td>hfls_Amon_CNRM-CM5_historical_r8i1p1_195001-20...</td>\n",
       "      <td>./tests/sample_data/cmip/cmip5/output1/CNRM-CE...</td>\n",
       "      <td>mon</td>\n",
       "      <td>CNRM-CERFACS</td>\n",
       "      <td>CNRM-CM5</td>\n",
       "      <td>atmos</td>\n",
       "      <td>./tests/sample_data/cmip/cmip5/output1/CNRM-CE...</td>\n",
       "      <td>hfls</td>\n",
       "      <td>v20110901</td>\n",
       "    </tr>\n",
       "    <tr>\n",
       "      <th>4</th>\n",
       "      <td>r10i1p1</td>\n",
       "      <td>rcp85</td>\n",
       "      <td>tasmax_Amon_CNRM-CM5_rcp85_r10i1p1_205601-2100...</td>\n",
       "      <td>./tests/sample_data/cmip/cmip5/output1/CNRM-CE...</td>\n",
       "      <td>mon</td>\n",
       "      <td>CNRM-CERFACS</td>\n",
       "      <td>CNRM-CM5</td>\n",
       "      <td>atmos</td>\n",
       "      <td>./tests/sample_data/cmip/cmip5/output1/CNRM-CE...</td>\n",
       "      <td>tasmax</td>\n",
       "      <td>v20110915</td>\n",
       "    </tr>\n",
       "  </tbody>\n",
       "</table>\n",
       "</div>"
      ],
      "text/plain": [
       "  ensemble  experiment                                      file_basename  \\\n",
       "0   r3i1p1  historical  hfls_Amon_IPSL-CM5A-LR_historical_r3i1p1_18500...   \n",
       "1   r3i1p1       rcp85  tasmax_Amon_IPSL-CM5A-LR_rcp85_r3i1p1_200601-2...   \n",
       "2   r7i1p1  historical  hfls_Amon_CNRM-CM5_historical_r7i1p1_195001-20...   \n",
       "3   r8i1p1  historical  hfls_Amon_CNRM-CM5_historical_r8i1p1_195001-20...   \n",
       "4  r10i1p1       rcp85  tasmax_Amon_CNRM-CM5_rcp85_r10i1p1_205601-2100...   \n",
       "\n",
       "                                       file_fullpath frequency   institution  \\\n",
       "0  ./tests/sample_data/cmip/cmip5/output1/IPSL/IP...       mon          IPSL   \n",
       "1  ./tests/sample_data/cmip/cmip5/output1/IPSL/IP...       mon          IPSL   \n",
       "2  ./tests/sample_data/cmip/cmip5/output1/CNRM-CE...       mon  CNRM-CERFACS   \n",
       "3  ./tests/sample_data/cmip/cmip5/output1/CNRM-CE...       mon  CNRM-CERFACS   \n",
       "4  ./tests/sample_data/cmip/cmip5/output1/CNRM-CE...       mon  CNRM-CERFACS   \n",
       "\n",
       "          model  realm                                      files_dirname  \\\n",
       "0  IPSL-CM5A-LR  atmos  ./tests/sample_data/cmip/cmip5/output1/IPSL/IP...   \n",
       "1  IPSL-CM5A-LR  atmos  ./tests/sample_data/cmip/cmip5/output1/IPSL/IP...   \n",
       "2      CNRM-CM5  atmos  ./tests/sample_data/cmip/cmip5/output1/CNRM-CE...   \n",
       "3      CNRM-CM5  atmos  ./tests/sample_data/cmip/cmip5/output1/CNRM-CE...   \n",
       "4      CNRM-CM5  atmos  ./tests/sample_data/cmip/cmip5/output1/CNRM-CE...   \n",
       "\n",
       "  variable    version  \n",
       "0     hfls  v20110406  \n",
       "1   tasmax  v20110726  \n",
       "2     hfls  v20110901  \n",
       "3     hfls  v20110901  \n",
       "4   tasmax  v20110915  "
      ]
     },
     "execution_count": 10,
     "metadata": {},
     "output_type": "execute_result"
    }
   ],
   "source": [
    "c.df.head()"
   ]
  },
  {
   "cell_type": "code",
   "execution_count": 11,
   "metadata": {},
   "outputs": [],
   "source": [
    "cat = c.search(variable=['hfls', 'tasmax'], frequency='mon', realm='atmos')   "
   ]
  },
  {
   "cell_type": "code",
   "execution_count": 12,
   "metadata": {},
   "outputs": [
    {
     "data": {
      "text/html": [
       "<div>\n",
       "<style scoped>\n",
       "    .dataframe tbody tr th:only-of-type {\n",
       "        vertical-align: middle;\n",
       "    }\n",
       "\n",
       "    .dataframe tbody tr th {\n",
       "        vertical-align: top;\n",
       "    }\n",
       "\n",
       "    .dataframe thead th {\n",
       "        text-align: right;\n",
       "    }\n",
       "</style>\n",
       "<table border=\"1\" class=\"dataframe\">\n",
       "  <thead>\n",
       "    <tr style=\"text-align: right;\">\n",
       "      <th></th>\n",
       "      <th>ensemble</th>\n",
       "      <th>experiment</th>\n",
       "      <th>file_basename</th>\n",
       "      <th>file_fullpath</th>\n",
       "      <th>frequency</th>\n",
       "      <th>institution</th>\n",
       "      <th>model</th>\n",
       "      <th>realm</th>\n",
       "      <th>files_dirname</th>\n",
       "      <th>variable</th>\n",
       "      <th>version</th>\n",
       "    </tr>\n",
       "  </thead>\n",
       "  <tbody>\n",
       "    <tr>\n",
       "      <th>0</th>\n",
       "      <td>r3i1p1</td>\n",
       "      <td>historical</td>\n",
       "      <td>hfls_Amon_IPSL-CM5A-LR_historical_r3i1p1_18500...</td>\n",
       "      <td>./tests/sample_data/cmip/cmip5/output1/IPSL/IP...</td>\n",
       "      <td>mon</td>\n",
       "      <td>IPSL</td>\n",
       "      <td>IPSL-CM5A-LR</td>\n",
       "      <td>atmos</td>\n",
       "      <td>./tests/sample_data/cmip/cmip5/output1/IPSL/IP...</td>\n",
       "      <td>hfls</td>\n",
       "      <td>v20110406</td>\n",
       "    </tr>\n",
       "    <tr>\n",
       "      <th>1</th>\n",
       "      <td>r3i1p1</td>\n",
       "      <td>rcp85</td>\n",
       "      <td>tasmax_Amon_IPSL-CM5A-LR_rcp85_r3i1p1_200601-2...</td>\n",
       "      <td>./tests/sample_data/cmip/cmip5/output1/IPSL/IP...</td>\n",
       "      <td>mon</td>\n",
       "      <td>IPSL</td>\n",
       "      <td>IPSL-CM5A-LR</td>\n",
       "      <td>atmos</td>\n",
       "      <td>./tests/sample_data/cmip/cmip5/output1/IPSL/IP...</td>\n",
       "      <td>tasmax</td>\n",
       "      <td>v20110726</td>\n",
       "    </tr>\n",
       "    <tr>\n",
       "      <th>2</th>\n",
       "      <td>r7i1p1</td>\n",
       "      <td>historical</td>\n",
       "      <td>hfls_Amon_CNRM-CM5_historical_r7i1p1_195001-20...</td>\n",
       "      <td>./tests/sample_data/cmip/cmip5/output1/CNRM-CE...</td>\n",
       "      <td>mon</td>\n",
       "      <td>CNRM-CERFACS</td>\n",
       "      <td>CNRM-CM5</td>\n",
       "      <td>atmos</td>\n",
       "      <td>./tests/sample_data/cmip/cmip5/output1/CNRM-CE...</td>\n",
       "      <td>hfls</td>\n",
       "      <td>v20110901</td>\n",
       "    </tr>\n",
       "    <tr>\n",
       "      <th>3</th>\n",
       "      <td>r8i1p1</td>\n",
       "      <td>historical</td>\n",
       "      <td>hfls_Amon_CNRM-CM5_historical_r8i1p1_195001-20...</td>\n",
       "      <td>./tests/sample_data/cmip/cmip5/output1/CNRM-CE...</td>\n",
       "      <td>mon</td>\n",
       "      <td>CNRM-CERFACS</td>\n",
       "      <td>CNRM-CM5</td>\n",
       "      <td>atmos</td>\n",
       "      <td>./tests/sample_data/cmip/cmip5/output1/CNRM-CE...</td>\n",
       "      <td>hfls</td>\n",
       "      <td>v20110901</td>\n",
       "    </tr>\n",
       "    <tr>\n",
       "      <th>4</th>\n",
       "      <td>r10i1p1</td>\n",
       "      <td>rcp85</td>\n",
       "      <td>tasmax_Amon_CNRM-CM5_rcp85_r10i1p1_205601-2100...</td>\n",
       "      <td>./tests/sample_data/cmip/cmip5/output1/CNRM-CE...</td>\n",
       "      <td>mon</td>\n",
       "      <td>CNRM-CERFACS</td>\n",
       "      <td>CNRM-CM5</td>\n",
       "      <td>atmos</td>\n",
       "      <td>./tests/sample_data/cmip/cmip5/output1/CNRM-CE...</td>\n",
       "      <td>tasmax</td>\n",
       "      <td>v20110915</td>\n",
       "    </tr>\n",
       "    <tr>\n",
       "      <th>7</th>\n",
       "      <td>r9i1p1</td>\n",
       "      <td>historical</td>\n",
       "      <td>hfls_Amon_CSIRO-Mk3-6-0_historical_r9i1p1_1850...</td>\n",
       "      <td>./tests/sample_data/cmip/cmip5/output1/CSIRO-Q...</td>\n",
       "      <td>mon</td>\n",
       "      <td>CSIRO-QCCCE</td>\n",
       "      <td>CSIRO-Mk3-6-0</td>\n",
       "      <td>atmos</td>\n",
       "      <td>./tests/sample_data/cmip/cmip5/output1/CSIRO-Q...</td>\n",
       "      <td>hfls</td>\n",
       "      <td>v20120323</td>\n",
       "    </tr>\n",
       "    <tr>\n",
       "      <th>8</th>\n",
       "      <td>r3i1p1</td>\n",
       "      <td>rcp85</td>\n",
       "      <td>tasmax_Amon_CSIRO-Mk3-6-0_rcp85_r3i1p1_210101-...</td>\n",
       "      <td>./tests/sample_data/cmip/cmip5/output1/CSIRO-Q...</td>\n",
       "      <td>mon</td>\n",
       "      <td>CSIRO-QCCCE</td>\n",
       "      <td>CSIRO-Mk3-6-0</td>\n",
       "      <td>atmos</td>\n",
       "      <td>./tests/sample_data/cmip/cmip5/output1/CSIRO-Q...</td>\n",
       "      <td>tasmax</td>\n",
       "      <td>v20120323</td>\n",
       "    </tr>\n",
       "    <tr>\n",
       "      <th>9</th>\n",
       "      <td>r2i1p1</td>\n",
       "      <td>historical</td>\n",
       "      <td>hfls_Amon_NorESM1-M_historical_r2i1p1_185001-2...</td>\n",
       "      <td>./tests/sample_data/cmip/cmip5/output1/NCC/Nor...</td>\n",
       "      <td>mon</td>\n",
       "      <td>NCC</td>\n",
       "      <td>NorESM1-M</td>\n",
       "      <td>atmos</td>\n",
       "      <td>./tests/sample_data/cmip/cmip5/output1/NCC/Nor...</td>\n",
       "      <td>hfls</td>\n",
       "      <td>v20120412</td>\n",
       "    </tr>\n",
       "    <tr>\n",
       "      <th>13</th>\n",
       "      <td>r2i1p1</td>\n",
       "      <td>rcp85</td>\n",
       "      <td>tasmax_Amon_FIO-ESM_rcp85_r2i1p1_200601-210012.nc</td>\n",
       "      <td>./tests/sample_data/cmip/cmip5/output1/FIO/FIO...</td>\n",
       "      <td>mon</td>\n",
       "      <td>FIO</td>\n",
       "      <td>FIO-ESM</td>\n",
       "      <td>atmos</td>\n",
       "      <td>./tests/sample_data/cmip/cmip5/output1/FIO/FIO...</td>\n",
       "      <td>tasmax</td>\n",
       "      <td>v20120524</td>\n",
       "    </tr>\n",
       "    <tr>\n",
       "      <th>14</th>\n",
       "      <td>r4i1p1</td>\n",
       "      <td>historical</td>\n",
       "      <td>hfls_Amon_CanCM4_historical_r4i1p1_196101-2005...</td>\n",
       "      <td>./tests/sample_data/cmip/cmip5/output1/CCCma/C...</td>\n",
       "      <td>mon</td>\n",
       "      <td>CCCma</td>\n",
       "      <td>CanCM4</td>\n",
       "      <td>atmos</td>\n",
       "      <td>./tests/sample_data/cmip/cmip5/output1/CCCma/C...</td>\n",
       "      <td>hfls</td>\n",
       "      <td>v20120612</td>\n",
       "    </tr>\n",
       "    <tr>\n",
       "      <th>15</th>\n",
       "      <td>r11i1p1</td>\n",
       "      <td>historical</td>\n",
       "      <td>hfls_Amon_EC-EARTH_historical_r11i1p1_195001-2...</td>\n",
       "      <td>./tests/sample_data/cmip/cmip5/output1/ICHEC/E...</td>\n",
       "      <td>mon</td>\n",
       "      <td>ICHEC</td>\n",
       "      <td>EC-EARTH</td>\n",
       "      <td>atmos</td>\n",
       "      <td>./tests/sample_data/cmip/cmip5/output1/ICHEC/E...</td>\n",
       "      <td>hfls</td>\n",
       "      <td>v20120621</td>\n",
       "    </tr>\n",
       "    <tr>\n",
       "      <th>19</th>\n",
       "      <td>r1i1p1</td>\n",
       "      <td>rcp85</td>\n",
       "      <td>tasmax_Amon_CMCC-CESM_rcp85_r1i1p1_208601-2095...</td>\n",
       "      <td>./tests/sample_data/cmip/cmip5/output1/CMCC/CM...</td>\n",
       "      <td>mon</td>\n",
       "      <td>CMCC</td>\n",
       "      <td>CMCC-CESM</td>\n",
       "      <td>atmos</td>\n",
       "      <td>./tests/sample_data/cmip/cmip5/output1/CMCC/CM...</td>\n",
       "      <td>tasmax</td>\n",
       "      <td>v20120730</td>\n",
       "    </tr>\n",
       "    <tr>\n",
       "      <th>21</th>\n",
       "      <td>r3i1p1</td>\n",
       "      <td>historical</td>\n",
       "      <td>hfls_Amon_IPSL-CM5A-MR_historical_r3i1p1_18500...</td>\n",
       "      <td>./tests/sample_data/cmip/cmip5/output1/IPSL/IP...</td>\n",
       "      <td>mon</td>\n",
       "      <td>IPSL</td>\n",
       "      <td>IPSL-CM5A-MR</td>\n",
       "      <td>atmos</td>\n",
       "      <td>./tests/sample_data/cmip/cmip5/output1/IPSL/IP...</td>\n",
       "      <td>hfls</td>\n",
       "      <td>v20130506</td>\n",
       "    </tr>\n",
       "    <tr>\n",
       "      <th>23</th>\n",
       "      <td>r1i1p1</td>\n",
       "      <td>rcp85</td>\n",
       "      <td>tasmax_Amon_HadGEM2-AO_rcp85_r1i1p1_200601-210...</td>\n",
       "      <td>./tests/sample_data/cmip/cmip5/output1/NIMR-KM...</td>\n",
       "      <td>mon</td>\n",
       "      <td>NIMR-KMA</td>\n",
       "      <td>HadGEM2-AO</td>\n",
       "      <td>atmos</td>\n",
       "      <td>./tests/sample_data/cmip/cmip5/output1/NIMR-KM...</td>\n",
       "      <td>tasmax</td>\n",
       "      <td>v20130815</td>\n",
       "    </tr>\n",
       "    <tr>\n",
       "      <th>26</th>\n",
       "      <td>r1i1p1</td>\n",
       "      <td>rcp85</td>\n",
       "      <td>tasmax_Amon_CESM1-CAM5_rcp85_r1i1p1_200601-210...</td>\n",
       "      <td>./tests/sample_data/cmip/cmip5/output1/NSF-DOE...</td>\n",
       "      <td>mon</td>\n",
       "      <td>NSF-DOE-NCAR</td>\n",
       "      <td>CESM1-CAM5</td>\n",
       "      <td>atmos</td>\n",
       "      <td>./tests/sample_data/cmip/cmip5/output1/NSF-DOE...</td>\n",
       "      <td>tasmax</td>\n",
       "      <td>v20140129</td>\n",
       "    </tr>\n",
       "    <tr>\n",
       "      <th>27</th>\n",
       "      <td>r2i1p2</td>\n",
       "      <td>historical</td>\n",
       "      <td>hfls_Amon_GISS-E2-H_historical_r2i1p2_195101-2...</td>\n",
       "      <td>./tests/sample_data/cmip/cmip5/output1/NASA-GI...</td>\n",
       "      <td>mon</td>\n",
       "      <td>NASA-GISS</td>\n",
       "      <td>GISS-E2-H</td>\n",
       "      <td>atmos</td>\n",
       "      <td>./tests/sample_data/cmip/cmip5/output1/NASA-GI...</td>\n",
       "      <td>hfls</td>\n",
       "      <td>v20160426</td>\n",
       "    </tr>\n",
       "    <tr>\n",
       "      <th>28</th>\n",
       "      <td>r1i1p124</td>\n",
       "      <td>historical</td>\n",
       "      <td>hfls_Amon_GISS-E2-R_historical_r1i1p124_200101...</td>\n",
       "      <td>./tests/sample_data/cmip/cmip5/output1/NASA-GI...</td>\n",
       "      <td>mon</td>\n",
       "      <td>NASA-GISS</td>\n",
       "      <td>GISS-E2-R</td>\n",
       "      <td>atmos</td>\n",
       "      <td>./tests/sample_data/cmip/cmip5/output1/NASA-GI...</td>\n",
       "      <td>hfls</td>\n",
       "      <td>v20160502</td>\n",
       "    </tr>\n",
       "    <tr>\n",
       "      <th>29</th>\n",
       "      <td>r1i1p3</td>\n",
       "      <td>rcp85</td>\n",
       "      <td>tasmax_Amon_GISS-E2-H_rcp85_r1i1p3_225101-2300...</td>\n",
       "      <td>./tests/sample_data/cmip/cmip5/output1/NASA-GI...</td>\n",
       "      <td>mon</td>\n",
       "      <td>NASA-GISS</td>\n",
       "      <td>GISS-E2-H</td>\n",
       "      <td>atmos</td>\n",
       "      <td>./tests/sample_data/cmip/cmip5/output1/NASA-GI...</td>\n",
       "      <td>tasmax</td>\n",
       "      <td>v20160512</td>\n",
       "    </tr>\n",
       "    <tr>\n",
       "      <th>30</th>\n",
       "      <td>r1i1p1</td>\n",
       "      <td>rcp85</td>\n",
       "      <td>tasmax_Amon_GISS-E2-R-CC_rcp85_r1i1p1_207601-2...</td>\n",
       "      <td>./tests/sample_data/cmip/cmip5/output1/NASA-GI...</td>\n",
       "      <td>mon</td>\n",
       "      <td>NASA-GISS</td>\n",
       "      <td>GISS-E2-R-CC</td>\n",
       "      <td>atmos</td>\n",
       "      <td>./tests/sample_data/cmip/cmip5/output1/NASA-GI...</td>\n",
       "      <td>tasmax</td>\n",
       "      <td>v20160512</td>\n",
       "    </tr>\n",
       "    <tr>\n",
       "      <th>31</th>\n",
       "      <td>r1i1p1</td>\n",
       "      <td>rcp85</td>\n",
       "      <td>tasmax_Amon_CMCC-CMS_rcp85_r1i1p1_209001-21001...</td>\n",
       "      <td>./tests/sample_data/cmip/cmip5/output1/CMCC/CM...</td>\n",
       "      <td>mon</td>\n",
       "      <td>CMCC</td>\n",
       "      <td>CMCC-CMS</td>\n",
       "      <td>atmos</td>\n",
       "      <td>./tests/sample_data/cmip/cmip5/output1/CMCC/CM...</td>\n",
       "      <td>tasmax</td>\n",
       "      <td>v20170725</td>\n",
       "    </tr>\n",
       "  </tbody>\n",
       "</table>\n",
       "</div>"
      ],
      "text/plain": [
       "    ensemble  experiment                                      file_basename  \\\n",
       "0     r3i1p1  historical  hfls_Amon_IPSL-CM5A-LR_historical_r3i1p1_18500...   \n",
       "1     r3i1p1       rcp85  tasmax_Amon_IPSL-CM5A-LR_rcp85_r3i1p1_200601-2...   \n",
       "2     r7i1p1  historical  hfls_Amon_CNRM-CM5_historical_r7i1p1_195001-20...   \n",
       "3     r8i1p1  historical  hfls_Amon_CNRM-CM5_historical_r8i1p1_195001-20...   \n",
       "4    r10i1p1       rcp85  tasmax_Amon_CNRM-CM5_rcp85_r10i1p1_205601-2100...   \n",
       "7     r9i1p1  historical  hfls_Amon_CSIRO-Mk3-6-0_historical_r9i1p1_1850...   \n",
       "8     r3i1p1       rcp85  tasmax_Amon_CSIRO-Mk3-6-0_rcp85_r3i1p1_210101-...   \n",
       "9     r2i1p1  historical  hfls_Amon_NorESM1-M_historical_r2i1p1_185001-2...   \n",
       "13    r2i1p1       rcp85  tasmax_Amon_FIO-ESM_rcp85_r2i1p1_200601-210012.nc   \n",
       "14    r4i1p1  historical  hfls_Amon_CanCM4_historical_r4i1p1_196101-2005...   \n",
       "15   r11i1p1  historical  hfls_Amon_EC-EARTH_historical_r11i1p1_195001-2...   \n",
       "19    r1i1p1       rcp85  tasmax_Amon_CMCC-CESM_rcp85_r1i1p1_208601-2095...   \n",
       "21    r3i1p1  historical  hfls_Amon_IPSL-CM5A-MR_historical_r3i1p1_18500...   \n",
       "23    r1i1p1       rcp85  tasmax_Amon_HadGEM2-AO_rcp85_r1i1p1_200601-210...   \n",
       "26    r1i1p1       rcp85  tasmax_Amon_CESM1-CAM5_rcp85_r1i1p1_200601-210...   \n",
       "27    r2i1p2  historical  hfls_Amon_GISS-E2-H_historical_r2i1p2_195101-2...   \n",
       "28  r1i1p124  historical  hfls_Amon_GISS-E2-R_historical_r1i1p124_200101...   \n",
       "29    r1i1p3       rcp85  tasmax_Amon_GISS-E2-H_rcp85_r1i1p3_225101-2300...   \n",
       "30    r1i1p1       rcp85  tasmax_Amon_GISS-E2-R-CC_rcp85_r1i1p1_207601-2...   \n",
       "31    r1i1p1       rcp85  tasmax_Amon_CMCC-CMS_rcp85_r1i1p1_209001-21001...   \n",
       "\n",
       "                                        file_fullpath frequency   institution  \\\n",
       "0   ./tests/sample_data/cmip/cmip5/output1/IPSL/IP...       mon          IPSL   \n",
       "1   ./tests/sample_data/cmip/cmip5/output1/IPSL/IP...       mon          IPSL   \n",
       "2   ./tests/sample_data/cmip/cmip5/output1/CNRM-CE...       mon  CNRM-CERFACS   \n",
       "3   ./tests/sample_data/cmip/cmip5/output1/CNRM-CE...       mon  CNRM-CERFACS   \n",
       "4   ./tests/sample_data/cmip/cmip5/output1/CNRM-CE...       mon  CNRM-CERFACS   \n",
       "7   ./tests/sample_data/cmip/cmip5/output1/CSIRO-Q...       mon   CSIRO-QCCCE   \n",
       "8   ./tests/sample_data/cmip/cmip5/output1/CSIRO-Q...       mon   CSIRO-QCCCE   \n",
       "9   ./tests/sample_data/cmip/cmip5/output1/NCC/Nor...       mon           NCC   \n",
       "13  ./tests/sample_data/cmip/cmip5/output1/FIO/FIO...       mon           FIO   \n",
       "14  ./tests/sample_data/cmip/cmip5/output1/CCCma/C...       mon         CCCma   \n",
       "15  ./tests/sample_data/cmip/cmip5/output1/ICHEC/E...       mon         ICHEC   \n",
       "19  ./tests/sample_data/cmip/cmip5/output1/CMCC/CM...       mon          CMCC   \n",
       "21  ./tests/sample_data/cmip/cmip5/output1/IPSL/IP...       mon          IPSL   \n",
       "23  ./tests/sample_data/cmip/cmip5/output1/NIMR-KM...       mon      NIMR-KMA   \n",
       "26  ./tests/sample_data/cmip/cmip5/output1/NSF-DOE...       mon  NSF-DOE-NCAR   \n",
       "27  ./tests/sample_data/cmip/cmip5/output1/NASA-GI...       mon     NASA-GISS   \n",
       "28  ./tests/sample_data/cmip/cmip5/output1/NASA-GI...       mon     NASA-GISS   \n",
       "29  ./tests/sample_data/cmip/cmip5/output1/NASA-GI...       mon     NASA-GISS   \n",
       "30  ./tests/sample_data/cmip/cmip5/output1/NASA-GI...       mon     NASA-GISS   \n",
       "31  ./tests/sample_data/cmip/cmip5/output1/CMCC/CM...       mon          CMCC   \n",
       "\n",
       "            model  realm                                      files_dirname  \\\n",
       "0    IPSL-CM5A-LR  atmos  ./tests/sample_data/cmip/cmip5/output1/IPSL/IP...   \n",
       "1    IPSL-CM5A-LR  atmos  ./tests/sample_data/cmip/cmip5/output1/IPSL/IP...   \n",
       "2        CNRM-CM5  atmos  ./tests/sample_data/cmip/cmip5/output1/CNRM-CE...   \n",
       "3        CNRM-CM5  atmos  ./tests/sample_data/cmip/cmip5/output1/CNRM-CE...   \n",
       "4        CNRM-CM5  atmos  ./tests/sample_data/cmip/cmip5/output1/CNRM-CE...   \n",
       "7   CSIRO-Mk3-6-0  atmos  ./tests/sample_data/cmip/cmip5/output1/CSIRO-Q...   \n",
       "8   CSIRO-Mk3-6-0  atmos  ./tests/sample_data/cmip/cmip5/output1/CSIRO-Q...   \n",
       "9       NorESM1-M  atmos  ./tests/sample_data/cmip/cmip5/output1/NCC/Nor...   \n",
       "13        FIO-ESM  atmos  ./tests/sample_data/cmip/cmip5/output1/FIO/FIO...   \n",
       "14         CanCM4  atmos  ./tests/sample_data/cmip/cmip5/output1/CCCma/C...   \n",
       "15       EC-EARTH  atmos  ./tests/sample_data/cmip/cmip5/output1/ICHEC/E...   \n",
       "19      CMCC-CESM  atmos  ./tests/sample_data/cmip/cmip5/output1/CMCC/CM...   \n",
       "21   IPSL-CM5A-MR  atmos  ./tests/sample_data/cmip/cmip5/output1/IPSL/IP...   \n",
       "23     HadGEM2-AO  atmos  ./tests/sample_data/cmip/cmip5/output1/NIMR-KM...   \n",
       "26     CESM1-CAM5  atmos  ./tests/sample_data/cmip/cmip5/output1/NSF-DOE...   \n",
       "27      GISS-E2-H  atmos  ./tests/sample_data/cmip/cmip5/output1/NASA-GI...   \n",
       "28      GISS-E2-R  atmos  ./tests/sample_data/cmip/cmip5/output1/NASA-GI...   \n",
       "29      GISS-E2-H  atmos  ./tests/sample_data/cmip/cmip5/output1/NASA-GI...   \n",
       "30   GISS-E2-R-CC  atmos  ./tests/sample_data/cmip/cmip5/output1/NASA-GI...   \n",
       "31       CMCC-CMS  atmos  ./tests/sample_data/cmip/cmip5/output1/CMCC/CM...   \n",
       "\n",
       "   variable    version  \n",
       "0      hfls  v20110406  \n",
       "1    tasmax  v20110726  \n",
       "2      hfls  v20110901  \n",
       "3      hfls  v20110901  \n",
       "4    tasmax  v20110915  \n",
       "7      hfls  v20120323  \n",
       "8    tasmax  v20120323  \n",
       "9      hfls  v20120412  \n",
       "13   tasmax  v20120524  \n",
       "14     hfls  v20120612  \n",
       "15     hfls  v20120621  \n",
       "19   tasmax  v20120730  \n",
       "21     hfls  v20130506  \n",
       "23   tasmax  v20130815  \n",
       "26   tasmax  v20140129  \n",
       "27     hfls  v20160426  \n",
       "28     hfls  v20160502  \n",
       "29   tasmax  v20160512  \n",
       "30   tasmax  v20160512  \n",
       "31   tasmax  v20170725  "
      ]
     },
     "execution_count": 12,
     "metadata": {},
     "output_type": "execute_result"
    }
   ],
   "source": [
    "cat.results"
   ]
  },
  {
   "cell_type": "code",
   "execution_count": 39,
   "metadata": {},
   "outputs": [],
   "source": [
    "df = cat.results.groupby(['institution'])"
   ]
  },
  {
   "cell_type": "code",
   "execution_count": 45,
   "metadata": {},
   "outputs": [
    {
     "name": "stdout",
     "output_type": "stream",
     "text": [
      "['r4i1p1']\n",
      "['r1i1p1']\n",
      "['r7i1p1' 'r8i1p1' 'r10i1p1']\n",
      "['r9i1p1' 'r3i1p1']\n",
      "['r2i1p1']\n",
      "['r11i1p1']\n",
      "['r3i1p1']\n",
      "['r2i1p2' 'r1i1p124' 'r1i1p3' 'r1i1p1']\n",
      "['r2i1p1']\n",
      "['r1i1p1']\n",
      "['r1i1p1']\n"
     ]
    }
   ],
   "source": [
    "for name, group in df:\n",
    "    print(group.ensemble.unique())"
   ]
  },
  {
   "cell_type": "code",
   "execution_count": 35,
   "metadata": {},
   "outputs": [
    {
     "name": "stdout",
     "output_type": "stream",
     "text": [
      "CCCma\n",
      "hfls\n",
      "************************\n",
      "CMCC\n",
      "tasmax\n",
      "************************\n",
      "CNRM-CERFACS\n",
      "hfls\n",
      "tasmax\n",
      "************************\n",
      "CSIRO-QCCCE\n",
      "hfls\n",
      "tasmax\n",
      "************************\n",
      "FIO\n",
      "tasmax\n",
      "************************\n",
      "ICHEC\n",
      "hfls\n",
      "************************\n",
      "IPSL\n",
      "hfls\n",
      "tasmax\n",
      "************************\n",
      "NASA-GISS\n",
      "hfls\n",
      "tasmax\n",
      "************************\n",
      "NCC\n",
      "hfls\n",
      "************************\n",
      "NIMR-KMA\n",
      "tasmax\n",
      "************************\n",
      "NSF-DOE-NCAR\n",
      "tasmax\n",
      "************************\n"
     ]
    }
   ],
   "source": [
    "for name, group in df:\n",
    "    print(name)\n",
    "\n",
    "    for n, g in group.groupby('variable'):\n",
    "        print(n)\n",
    "    print(\"************************\")"
   ]
  },
  {
   "cell_type": "code",
   "execution_count": null,
   "metadata": {},
   "outputs": [],
   "source": []
  }
 ],
 "metadata": {
  "kernelspec": {
   "display_name": "Python 3",
   "language": "python",
   "name": "python3"
  },
  "language_info": {
   "codemirror_mode": {
    "name": "ipython",
    "version": 3
   },
   "file_extension": ".py",
   "mimetype": "text/x-python",
   "name": "python",
   "nbconvert_exporter": "python",
   "pygments_lexer": "ipython3",
   "version": "3.6.7"
  }
 },
 "nbformat": 4,
 "nbformat_minor": 2
}
