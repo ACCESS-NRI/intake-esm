{
 "cells": [
  {
   "cell_type": "markdown",
   "metadata": {},
   "source": [
    "# Tutorial\n",
    "\n",
    "## Motivation\n",
    "\n",
    "\n",
    "Project efforts such as the [Coupled Model Intercomparison Project (CMIP)](https://www.wcrp-climate.org/wgcm-cmip) and the [Community Earth System Model (CESM) Large Ensemble Project](http://www.cesm.ucar.edu/projects/community-projects/LENS/) produce a huge of amount climate data persisted on tape, disk storage, object storage components across multiple (in the order of ~ 300,000) data assets. These data assets are stored in netCDF and more recently [Zarr](https://zarr.readthedocs.io/en/stable/) formats. Finding, investigating, loading these assets into data array containers such as xarray can be a daunting task due to the large number of files a user may be interested in. Intake-esm aims to address these issues by providing necessary functionality for searching, discovering, data access/loading. \n",
    "\n",
    "## Overview \n",
    "\n",
    "`intake-esm` is a data cataloging utility built on top of [intake](https://github.com/intake/intake), [pandas](https://pandas.pydata.org/), and [xarray](https://xarray.pydata.org/en/stable/), and it's pretty awesome! \n"
   ]
  },
  {
   "cell_type": "markdown",
   "metadata": {},
   "source": [
    "## Opening a collection\n",
    "\n",
    "First step is to point ``intake-esm`` to an ESM (Earth System Model) collection definition file, which is a JSON file that conforms to the [ESM Collection Specification](https://github.com/NCAR/esm-collection-spec). The collection JSON file can be stored on a local filesystem or can be hosted on a remote server. When provided a link/path to an esm collection file, `intake-esm` establishes a link to a database (CSV file) that contains assets (e.g. file) locations and associated metadata (i.e., which experiement, model, the come from). \n",
    "\n",
    "\n",
    "\n",
    "<div class=\"alert alert-info\">\n",
    "\n",
    "**Note:** \n",
    "    \n",
    "    \n",
    "For demonstration purposes, we will be using the CMIP6 data hosted in Pangeo's Google Storage. For this data collection, we will be using the Pangeo cloud collection file stored [here](https://raw.githubusercontent.com/NCAR/intake-esm-datastore/master/catalogs/pangeo-cmip6.json).\n",
    "\n",
    "    \n",
    "\n",
    "More collection catalogs are listed [here](https://intake-esm.readthedocs.io/en/latest/faq.html#is-there-a-list-of-existing-catalogs). \n",
    "    \n",
    "    \n",
    "</div>\n"
   ]
  },
  {
   "cell_type": "markdown",
   "metadata": {},
   "source": [
    "Because `intake-esm` is an `intake` plugin, the plugin automatically appears in the set of known\n",
    "plugins in the intake registry, and an associated ``intake.open_esm_datastore`` function is created at import time."
   ]
  },
  {
   "cell_type": "code",
   "execution_count": 1,
   "metadata": {},
   "outputs": [],
   "source": [
    "import intake"
   ]
  },
  {
   "cell_type": "code",
   "execution_count": 2,
   "metadata": {},
   "outputs": [
    {
     "data": {
      "text/plain": [
       "{'yaml_file_cat': intake.catalog.local.YAMLFileCatalog,\n",
       " 'yaml_files_cat': intake.catalog.local.YAMLFilesCatalog,\n",
       " 'remote-xarray': intake_xarray.xarray_container.RemoteXarray,\n",
       " 'netcdf': intake_xarray.netcdf.NetCDFSource,\n",
       " 'opendap': intake_xarray.opendap.OpenDapSource,\n",
       " 'rasterio': intake_xarray.raster.RasterIOSource,\n",
       " 'xarray_image': intake_xarray.image.ImageSource,\n",
       " 'zarr': intake_xarray.xzarr.ZarrSource,\n",
       " 'catalog': intake.catalog.base.Catalog,\n",
       " 'csv': intake.source.csv.CSVSource,\n",
       " 'intake_remote': intake.catalog.base.RemoteCatalog,\n",
       " 'ndzarr': intake.source.zarr.ZarrArraySource,\n",
       " 'numpy': intake.source.npy.NPySource,\n",
       " 'textfiles': intake.source.textfiles.TextFilesSource,\n",
       " 'esm_datastore': intake_esm.core.esm_datastore}"
      ]
     },
     "execution_count": 2,
     "metadata": {},
     "output_type": "execute_result"
    }
   ],
   "source": [
    "intake.registry"
   ]
  },
  {
   "cell_type": "code",
   "execution_count": 3,
   "metadata": {},
   "outputs": [
    {
     "data": {
      "text/plain": [
       "pangeo-cmip6-ESM Collection with 142406 entries:\n",
       "\t> 14 activity_id(s)\n",
       "\n",
       "\t> 24 institution_id(s)\n",
       "\n",
       "\t> 55 source_id(s)\n",
       "\n",
       "\t> 99 experiment_id(s)\n",
       "\n",
       "\t> 123 member_id(s)\n",
       "\n",
       "\t> 28 table_id(s)\n",
       "\n",
       "\t> 243 variable_id(s)\n",
       "\n",
       "\t> 8 grid_label(s)\n",
       "\n",
       "\t> 142406 zstore(s)\n",
       "\n",
       "\t> 60 dcpp_init_year(s)"
      ]
     },
     "execution_count": 3,
     "metadata": {},
     "output_type": "execute_result"
    }
   ],
   "source": [
    "url = \"https://raw.githubusercontent.com/NCAR/intake-esm-datastore/master/catalogs/pangeo-cmip6.json\"\n",
    "col = intake.open_esm_datastore(url)\n",
    "col"
   ]
  },
  {
   "cell_type": "markdown",
   "metadata": {},
   "source": [
    "Since `intake-esm` is build on top of [pandas](https://pandas.pydata.org/pandas-docs/stable), it is possible to view the `pandas.DataFrame` as follows."
   ]
  },
  {
   "cell_type": "code",
   "execution_count": 4,
   "metadata": {},
   "outputs": [
    {
     "data": {
      "text/html": [
       "<div>\n",
       "<style scoped>\n",
       "    .dataframe tbody tr th:only-of-type {\n",
       "        vertical-align: middle;\n",
       "    }\n",
       "\n",
       "    .dataframe tbody tr th {\n",
       "        vertical-align: top;\n",
       "    }\n",
       "\n",
       "    .dataframe thead th {\n",
       "        text-align: right;\n",
       "    }\n",
       "</style>\n",
       "<table border=\"1\" class=\"dataframe\">\n",
       "  <thead>\n",
       "    <tr style=\"text-align: right;\">\n",
       "      <th></th>\n",
       "      <th>activity_id</th>\n",
       "      <th>institution_id</th>\n",
       "      <th>source_id</th>\n",
       "      <th>experiment_id</th>\n",
       "      <th>member_id</th>\n",
       "      <th>table_id</th>\n",
       "      <th>variable_id</th>\n",
       "      <th>grid_label</th>\n",
       "      <th>zstore</th>\n",
       "      <th>dcpp_init_year</th>\n",
       "    </tr>\n",
       "  </thead>\n",
       "  <tbody>\n",
       "    <tr>\n",
       "      <th>0</th>\n",
       "      <td>AerChemMIP</td>\n",
       "      <td>BCC</td>\n",
       "      <td>BCC-ESM1</td>\n",
       "      <td>piClim-CH4</td>\n",
       "      <td>r1i1p1f1</td>\n",
       "      <td>Amon</td>\n",
       "      <td>ch4</td>\n",
       "      <td>gn</td>\n",
       "      <td>gs://cmip6/AerChemMIP/BCC/BCC-ESM1/piClim-CH4/...</td>\n",
       "      <td>NaN</td>\n",
       "    </tr>\n",
       "    <tr>\n",
       "      <th>1</th>\n",
       "      <td>AerChemMIP</td>\n",
       "      <td>BCC</td>\n",
       "      <td>BCC-ESM1</td>\n",
       "      <td>piClim-CH4</td>\n",
       "      <td>r1i1p1f1</td>\n",
       "      <td>Amon</td>\n",
       "      <td>clt</td>\n",
       "      <td>gn</td>\n",
       "      <td>gs://cmip6/AerChemMIP/BCC/BCC-ESM1/piClim-CH4/...</td>\n",
       "      <td>NaN</td>\n",
       "    </tr>\n",
       "    <tr>\n",
       "      <th>2</th>\n",
       "      <td>AerChemMIP</td>\n",
       "      <td>BCC</td>\n",
       "      <td>BCC-ESM1</td>\n",
       "      <td>piClim-CH4</td>\n",
       "      <td>r1i1p1f1</td>\n",
       "      <td>Amon</td>\n",
       "      <td>co2</td>\n",
       "      <td>gn</td>\n",
       "      <td>gs://cmip6/AerChemMIP/BCC/BCC-ESM1/piClim-CH4/...</td>\n",
       "      <td>NaN</td>\n",
       "    </tr>\n",
       "    <tr>\n",
       "      <th>3</th>\n",
       "      <td>AerChemMIP</td>\n",
       "      <td>BCC</td>\n",
       "      <td>BCC-ESM1</td>\n",
       "      <td>piClim-CH4</td>\n",
       "      <td>r1i1p1f1</td>\n",
       "      <td>Amon</td>\n",
       "      <td>evspsbl</td>\n",
       "      <td>gn</td>\n",
       "      <td>gs://cmip6/AerChemMIP/BCC/BCC-ESM1/piClim-CH4/...</td>\n",
       "      <td>NaN</td>\n",
       "    </tr>\n",
       "    <tr>\n",
       "      <th>4</th>\n",
       "      <td>AerChemMIP</td>\n",
       "      <td>BCC</td>\n",
       "      <td>BCC-ESM1</td>\n",
       "      <td>piClim-CH4</td>\n",
       "      <td>r1i1p1f1</td>\n",
       "      <td>Amon</td>\n",
       "      <td>hfls</td>\n",
       "      <td>gn</td>\n",
       "      <td>gs://cmip6/AerChemMIP/BCC/BCC-ESM1/piClim-CH4/...</td>\n",
       "      <td>NaN</td>\n",
       "    </tr>\n",
       "  </tbody>\n",
       "</table>\n",
       "</div>"
      ],
      "text/plain": [
       "  activity_id institution_id source_id experiment_id member_id table_id  \\\n",
       "0  AerChemMIP            BCC  BCC-ESM1    piClim-CH4  r1i1p1f1     Amon   \n",
       "1  AerChemMIP            BCC  BCC-ESM1    piClim-CH4  r1i1p1f1     Amon   \n",
       "2  AerChemMIP            BCC  BCC-ESM1    piClim-CH4  r1i1p1f1     Amon   \n",
       "3  AerChemMIP            BCC  BCC-ESM1    piClim-CH4  r1i1p1f1     Amon   \n",
       "4  AerChemMIP            BCC  BCC-ESM1    piClim-CH4  r1i1p1f1     Amon   \n",
       "\n",
       "  variable_id grid_label                                             zstore  \\\n",
       "0         ch4         gn  gs://cmip6/AerChemMIP/BCC/BCC-ESM1/piClim-CH4/...   \n",
       "1         clt         gn  gs://cmip6/AerChemMIP/BCC/BCC-ESM1/piClim-CH4/...   \n",
       "2         co2         gn  gs://cmip6/AerChemMIP/BCC/BCC-ESM1/piClim-CH4/...   \n",
       "3     evspsbl         gn  gs://cmip6/AerChemMIP/BCC/BCC-ESM1/piClim-CH4/...   \n",
       "4        hfls         gn  gs://cmip6/AerChemMIP/BCC/BCC-ESM1/piClim-CH4/...   \n",
       "\n",
       "   dcpp_init_year  \n",
       "0             NaN  \n",
       "1             NaN  \n",
       "2             NaN  \n",
       "3             NaN  \n",
       "4             NaN  "
      ]
     },
     "execution_count": 4,
     "metadata": {},
     "output_type": "execute_result"
    }
   ],
   "source": [
    "col.df.head()"
   ]
  },
  {
   "cell_type": "markdown",
   "metadata": {},
   "source": [
    "It is possible to interact with the `DataFrame`; for instance, we can see what the \"attributes\" of the datasets are by printing the columns."
   ]
  },
  {
   "cell_type": "code",
   "execution_count": 5,
   "metadata": {},
   "outputs": [
    {
     "data": {
      "text/plain": [
       "Index(['activity_id', 'institution_id', 'source_id', 'experiment_id',\n",
       "       'member_id', 'table_id', 'variable_id', 'grid_label', 'zstore',\n",
       "       'dcpp_init_year'],\n",
       "      dtype='object')"
      ]
     },
     "execution_count": 5,
     "metadata": {},
     "output_type": "execute_result"
    }
   ],
   "source": [
    "col.df.columns"
   ]
  },
  {
   "cell_type": "markdown",
   "metadata": {},
   "source": [
    "## Search and discovery\n",
    "\n",
    "### Finding unique entries\n",
    "Let's query the data to see what models (\"source_id\"), experiments (\"experiment_id\") and temporal frequencies (\"table_id\") are available."
   ]
  },
  {
   "cell_type": "code",
   "execution_count": 6,
   "metadata": {},
   "outputs": [
    {
     "name": "stdout",
     "output_type": "stream",
     "text": [
      "{'experiment_id': {'count': 99,\n",
      "                   'values': ['piClim-CH4', 'piClim-NTCF', 'piClim-control',\n",
      "                              'ssp370', 'piClim-2xDMS', 'piClim-2xdust',\n",
      "                              'piClim-2xfire', 'piClim-2xss', 'piClim-BC',\n",
      "                              'piClim-HC', 'piClim-N2O', 'piClim-OC',\n",
      "                              'piClim-SO2', '1pctCO2-bgc', 'esm-ssp585',\n",
      "                              'hist-bgc', 'amip-4xCO2', 'amip-future4K',\n",
      "                              'amip-m4K', 'amip-p4K', 'amip', 'abrupt-2xCO2',\n",
      "                              'abrupt-solp4p', 'abrupt-0p5xCO2', 'amip-lwoff',\n",
      "                              'amip-p4K-lwoff', 'abrupt-solm4p', 'aqua-4xCO2',\n",
      "                              'aqua-control-lwoff', 'aqua-control',\n",
      "                              'aqua-p4K-lwoff', 'aqua-p4K', '1pctCO2',\n",
      "                              'abrupt-4xCO2', 'historical', 'piControl',\n",
      "                              'esm-hist', 'esm-piControl', 'ssp126', 'ssp245',\n",
      "                              'ssp585', 'esm-piControl-spinup',\n",
      "                              'piControl-spinup', 'hist-GHG', 'hist-aer',\n",
      "                              'hist-nat', 'hist-CO2', 'hist-sol',\n",
      "                              'hist-stratO3', 'hist-volc', 'ssp245-GHG',\n",
      "                              'ssp245-aer', 'ssp245-nat', 'ssp245-stratO3',\n",
      "                              'dcppA-assim', 'dcppA-hindcast',\n",
      "                              'dcppC-hindcast-noAgung',\n",
      "                              'dcppC-hindcast-noElChichon',\n",
      "                              'dcppC-hindcast-noPinatubo', 'dcppC-amv-neg',\n",
      "                              'dcppC-amv-pos', 'dcppC-amv-ExTrop-neg',\n",
      "                              'dcppC-amv-ExTrop-pos', 'dcppC-amv-Trop-neg',\n",
      "                              'dcppC-amv-Trop-pos', 'dcppC-atl-control',\n",
      "                              'dcppC-atl-pacemaker', 'dcppC-ipv-NexTrop-neg',\n",
      "                              'dcppC-ipv-NexTrop-pos', 'dcppC-ipv-neg',\n",
      "                              'dcppC-ipv-pos', 'dcppC-pac-control',\n",
      "                              'dcppC-pac-pacemaker', 'faf-heat',\n",
      "                              'faf-passiveheat', 'faf-stress', 'faf-water',\n",
      "                              'faf-all', 'highresSST-present', 'hist-1950',\n",
      "                              'control-1950', 'land-hist', 'deforest-globe',\n",
      "                              'esm-ssp585-ssp126Lu', 'hist-noLu', 'land-noLu',\n",
      "                              'omip1', 'lig127k', 'midHolocene', 'lgm',\n",
      "                              'piClim-4xCO2', 'piClim-aer', 'piClim-anthro',\n",
      "                              'piClim-ghg', 'piClim-lu', 'ssp119', 'ssp434',\n",
      "                              'ssp460', 'ssp534-over']},\n",
      " 'source_id': {'count': 55,\n",
      "               'values': ['BCC-ESM1', 'CNRM-ESM2-1', 'MIROC6', 'UKESM1-0-LL',\n",
      "                          'MRI-ESM2-0', 'CESM2-WACCM', 'BCC-CSM2-MR', 'CanESM5',\n",
      "                          'GISS-E2-1-G', 'CESM2', 'GFDL-ESM4', 'CNRM-CM6-1',\n",
      "                          'IPSL-CM6A-LR', 'GISS-E2-1-H', 'GFDL-CM4',\n",
      "                          'AWI-CM-1-1-MR', 'CAMS-CSM1-0', 'FGOALS-f3-L',\n",
      "                          'FGOALS-g3', 'CNRM-CM6-1-HR', 'E3SM-1-0', 'E3SM-1-1',\n",
      "                          'EC-Earth3-LR', 'EC-Earth3-Veg', 'EC-Earth3',\n",
      "                          'FIO-ESM-2-0', 'MIROC-ES2L', 'HadGEM3-GC31-LL',\n",
      "                          'HadGEM3-GC31-MM', 'MPI-ESM1-2-HR', 'GISS-E2-1-G-CC',\n",
      "                          'GISS-E2-2-G', 'CESM2-FV2', 'CESM2-WACCM-FV2',\n",
      "                          'NorCPM1', 'NorESM1-F', 'NorESM2-LM', 'NESM3',\n",
      "                          'SAM0-UNICON', 'MCM-UA-1-0', 'CESM1-1-CAM5-CMIP5',\n",
      "                          'CMCC-CM2-HR4', 'CMCC-CM2-VHR4', 'ECMWF-IFS-HR',\n",
      "                          'ECMWF-IFS-LR', 'IPSL-CM6A-ATM-HR', 'NICAM16-7S',\n",
      "                          'NICAM16-8S', 'NICAM16-9S', 'HadGEM3-GC31-HM',\n",
      "                          'HadGEM3-GC31-LM', 'MPI-ESM1-2-XR', 'MRI-AGCM3-2-H',\n",
      "                          'MRI-AGCM3-2-S', 'GFDL-CM4C192']},\n",
      " 'table_id': {'count': 28,\n",
      "              'values': ['Amon', 'day', 'AERmon', 'AERmonZ', 'CFmon', 'fx',\n",
      "                         'Lmon', 'Oyr', 'Omon', 'SImon', 'LImon', 'Ofx', '3hr',\n",
      "                         '6hrLev', 'Oday', 'Aclim', 'Emon', 'CFday', '6hrPlev',\n",
      "                         'CF3hr', 'Oclim', 'SIclim', 'Eclim', 'Odec', 'IfxGre',\n",
      "                         'ImonGre', '6hrPlevPt', 'E3hr']}}\n"
     ]
    }
   ],
   "source": [
    "import pprint \n",
    "uni_dict = col.unique(['source_id', 'experiment_id', 'table_id'])\n",
    "pprint.pprint(uni_dict, compact=True)"
   ]
  },
  {
   "cell_type": "markdown",
   "metadata": {},
   "source": [
    "### Searching for specific datasets\n",
    "\n",
    "\n",
    "One of the features supported in ``intake-esm`` is querying the collection catalog.\n",
    "This feature is provided via the ``search()`` method. The ``search()`` method allows the user to\n",
    "specify a query by using keyword arguments. This method returns a subset of the collection catalog\n",
    "with all the entries that match the provided query.\n",
    "\n",
    "Let's find all the dissolved oxygen data at annual frequency from the ocean for the `historical` and `ssp585` experiments."
   ]
  },
  {
   "cell_type": "code",
   "execution_count": 7,
   "metadata": {},
   "outputs": [
    {
     "name": "stdout",
     "output_type": "stream",
     "text": [
      "CPU times: user 337 ms, sys: 67 ms, total: 404 ms\n",
      "Wall time: 609 ms\n"
     ]
    },
    {
     "data": {
      "text/html": [
       "<div>\n",
       "<style scoped>\n",
       "    .dataframe tbody tr th:only-of-type {\n",
       "        vertical-align: middle;\n",
       "    }\n",
       "\n",
       "    .dataframe tbody tr th {\n",
       "        vertical-align: top;\n",
       "    }\n",
       "\n",
       "    .dataframe thead th {\n",
       "        text-align: right;\n",
       "    }\n",
       "</style>\n",
       "<table border=\"1\" class=\"dataframe\">\n",
       "  <thead>\n",
       "    <tr style=\"text-align: right;\">\n",
       "      <th></th>\n",
       "      <th>activity_id</th>\n",
       "      <th>institution_id</th>\n",
       "      <th>source_id</th>\n",
       "      <th>experiment_id</th>\n",
       "      <th>member_id</th>\n",
       "      <th>table_id</th>\n",
       "      <th>variable_id</th>\n",
       "      <th>grid_label</th>\n",
       "      <th>zstore</th>\n",
       "      <th>dcpp_init_year</th>\n",
       "    </tr>\n",
       "  </thead>\n",
       "  <tbody>\n",
       "    <tr>\n",
       "      <th>0</th>\n",
       "      <td>CMIP</td>\n",
       "      <td>CCCma</td>\n",
       "      <td>CanESM5</td>\n",
       "      <td>historical</td>\n",
       "      <td>r10i1p1f1</td>\n",
       "      <td>Oyr</td>\n",
       "      <td>o2</td>\n",
       "      <td>gn</td>\n",
       "      <td>gs://cmip6/CMIP/CCCma/CanESM5/historical/r10i1...</td>\n",
       "      <td>NaN</td>\n",
       "    </tr>\n",
       "    <tr>\n",
       "      <th>1</th>\n",
       "      <td>CMIP</td>\n",
       "      <td>CCCma</td>\n",
       "      <td>CanESM5</td>\n",
       "      <td>historical</td>\n",
       "      <td>r10i1p2f1</td>\n",
       "      <td>Oyr</td>\n",
       "      <td>o2</td>\n",
       "      <td>gn</td>\n",
       "      <td>gs://cmip6/CMIP/CCCma/CanESM5/historical/r10i1...</td>\n",
       "      <td>NaN</td>\n",
       "    </tr>\n",
       "    <tr>\n",
       "      <th>2</th>\n",
       "      <td>CMIP</td>\n",
       "      <td>CCCma</td>\n",
       "      <td>CanESM5</td>\n",
       "      <td>historical</td>\n",
       "      <td>r11i1p1f1</td>\n",
       "      <td>Oyr</td>\n",
       "      <td>o2</td>\n",
       "      <td>gn</td>\n",
       "      <td>gs://cmip6/CMIP/CCCma/CanESM5/historical/r11i1...</td>\n",
       "      <td>NaN</td>\n",
       "    </tr>\n",
       "    <tr>\n",
       "      <th>3</th>\n",
       "      <td>CMIP</td>\n",
       "      <td>CCCma</td>\n",
       "      <td>CanESM5</td>\n",
       "      <td>historical</td>\n",
       "      <td>r12i1p1f1</td>\n",
       "      <td>Oyr</td>\n",
       "      <td>o2</td>\n",
       "      <td>gn</td>\n",
       "      <td>gs://cmip6/CMIP/CCCma/CanESM5/historical/r12i1...</td>\n",
       "      <td>NaN</td>\n",
       "    </tr>\n",
       "    <tr>\n",
       "      <th>4</th>\n",
       "      <td>CMIP</td>\n",
       "      <td>CCCma</td>\n",
       "      <td>CanESM5</td>\n",
       "      <td>historical</td>\n",
       "      <td>r13i1p1f1</td>\n",
       "      <td>Oyr</td>\n",
       "      <td>o2</td>\n",
       "      <td>gn</td>\n",
       "      <td>gs://cmip6/CMIP/CCCma/CanESM5/historical/r13i1...</td>\n",
       "      <td>NaN</td>\n",
       "    </tr>\n",
       "    <tr>\n",
       "      <th>...</th>\n",
       "      <td>...</td>\n",
       "      <td>...</td>\n",
       "      <td>...</td>\n",
       "      <td>...</td>\n",
       "      <td>...</td>\n",
       "      <td>...</td>\n",
       "      <td>...</td>\n",
       "      <td>...</td>\n",
       "      <td>...</td>\n",
       "      <td>...</td>\n",
       "    </tr>\n",
       "    <tr>\n",
       "      <th>88</th>\n",
       "      <td>ScenarioMIP</td>\n",
       "      <td>CCCma</td>\n",
       "      <td>CanESM5</td>\n",
       "      <td>ssp585</td>\n",
       "      <td>r9i1p1f1</td>\n",
       "      <td>Oyr</td>\n",
       "      <td>o2</td>\n",
       "      <td>gn</td>\n",
       "      <td>gs://cmip6/ScenarioMIP/CCCma/CanESM5/ssp585/r9...</td>\n",
       "      <td>NaN</td>\n",
       "    </tr>\n",
       "    <tr>\n",
       "      <th>89</th>\n",
       "      <td>ScenarioMIP</td>\n",
       "      <td>CCCma</td>\n",
       "      <td>CanESM5</td>\n",
       "      <td>ssp585</td>\n",
       "      <td>r9i1p2f1</td>\n",
       "      <td>Oyr</td>\n",
       "      <td>o2</td>\n",
       "      <td>gn</td>\n",
       "      <td>gs://cmip6/ScenarioMIP/CCCma/CanESM5/ssp585/r9...</td>\n",
       "      <td>NaN</td>\n",
       "    </tr>\n",
       "    <tr>\n",
       "      <th>90</th>\n",
       "      <td>ScenarioMIP</td>\n",
       "      <td>DKRZ</td>\n",
       "      <td>MPI-ESM1-2-HR</td>\n",
       "      <td>ssp585</td>\n",
       "      <td>r1i1p1f1</td>\n",
       "      <td>Oyr</td>\n",
       "      <td>o2</td>\n",
       "      <td>gn</td>\n",
       "      <td>gs://cmip6/ScenarioMIP/DKRZ/MPI-ESM1-2-HR/ssp5...</td>\n",
       "      <td>NaN</td>\n",
       "    </tr>\n",
       "    <tr>\n",
       "      <th>91</th>\n",
       "      <td>ScenarioMIP</td>\n",
       "      <td>IPSL</td>\n",
       "      <td>IPSL-CM6A-LR</td>\n",
       "      <td>ssp585</td>\n",
       "      <td>r1i1p1f1</td>\n",
       "      <td>Oyr</td>\n",
       "      <td>o2</td>\n",
       "      <td>gn</td>\n",
       "      <td>gs://cmip6/ScenarioMIP/IPSL/IPSL-CM6A-LR/ssp58...</td>\n",
       "      <td>NaN</td>\n",
       "    </tr>\n",
       "    <tr>\n",
       "      <th>92</th>\n",
       "      <td>ScenarioMIP</td>\n",
       "      <td>MIROC</td>\n",
       "      <td>MIROC-ES2L</td>\n",
       "      <td>ssp585</td>\n",
       "      <td>r1i1p1f2</td>\n",
       "      <td>Oyr</td>\n",
       "      <td>o2</td>\n",
       "      <td>gn</td>\n",
       "      <td>gs://cmip6/ScenarioMIP/MIROC/MIROC-ES2L/ssp585...</td>\n",
       "      <td>NaN</td>\n",
       "    </tr>\n",
       "  </tbody>\n",
       "</table>\n",
       "<p>93 rows × 10 columns</p>\n",
       "</div>"
      ],
      "text/plain": [
       "    activity_id institution_id      source_id experiment_id  member_id  \\\n",
       "0          CMIP          CCCma        CanESM5    historical  r10i1p1f1   \n",
       "1          CMIP          CCCma        CanESM5    historical  r10i1p2f1   \n",
       "2          CMIP          CCCma        CanESM5    historical  r11i1p1f1   \n",
       "3          CMIP          CCCma        CanESM5    historical  r12i1p1f1   \n",
       "4          CMIP          CCCma        CanESM5    historical  r13i1p1f1   \n",
       "..          ...            ...            ...           ...        ...   \n",
       "88  ScenarioMIP          CCCma        CanESM5        ssp585   r9i1p1f1   \n",
       "89  ScenarioMIP          CCCma        CanESM5        ssp585   r9i1p2f1   \n",
       "90  ScenarioMIP           DKRZ  MPI-ESM1-2-HR        ssp585   r1i1p1f1   \n",
       "91  ScenarioMIP           IPSL   IPSL-CM6A-LR        ssp585   r1i1p1f1   \n",
       "92  ScenarioMIP          MIROC     MIROC-ES2L        ssp585   r1i1p1f2   \n",
       "\n",
       "   table_id variable_id grid_label  \\\n",
       "0       Oyr          o2         gn   \n",
       "1       Oyr          o2         gn   \n",
       "2       Oyr          o2         gn   \n",
       "3       Oyr          o2         gn   \n",
       "4       Oyr          o2         gn   \n",
       "..      ...         ...        ...   \n",
       "88      Oyr          o2         gn   \n",
       "89      Oyr          o2         gn   \n",
       "90      Oyr          o2         gn   \n",
       "91      Oyr          o2         gn   \n",
       "92      Oyr          o2         gn   \n",
       "\n",
       "                                               zstore  dcpp_init_year  \n",
       "0   gs://cmip6/CMIP/CCCma/CanESM5/historical/r10i1...             NaN  \n",
       "1   gs://cmip6/CMIP/CCCma/CanESM5/historical/r10i1...             NaN  \n",
       "2   gs://cmip6/CMIP/CCCma/CanESM5/historical/r11i1...             NaN  \n",
       "3   gs://cmip6/CMIP/CCCma/CanESM5/historical/r12i1...             NaN  \n",
       "4   gs://cmip6/CMIP/CCCma/CanESM5/historical/r13i1...             NaN  \n",
       "..                                                ...             ...  \n",
       "88  gs://cmip6/ScenarioMIP/CCCma/CanESM5/ssp585/r9...             NaN  \n",
       "89  gs://cmip6/ScenarioMIP/CCCma/CanESM5/ssp585/r9...             NaN  \n",
       "90  gs://cmip6/ScenarioMIP/DKRZ/MPI-ESM1-2-HR/ssp5...             NaN  \n",
       "91  gs://cmip6/ScenarioMIP/IPSL/IPSL-CM6A-LR/ssp58...             NaN  \n",
       "92  gs://cmip6/ScenarioMIP/MIROC/MIROC-ES2L/ssp585...             NaN  \n",
       "\n",
       "[93 rows x 10 columns]"
      ]
     },
     "execution_count": 7,
     "metadata": {},
     "output_type": "execute_result"
    }
   ],
   "source": [
    "%%time\n",
    "cat = col.search(experiment_id=['historical', 'ssp585'], table_id='Oyr', variable_id='o2', \n",
    "                 grid_label='gn')\n",
    "cat.df"
   ]
  },
  {
   "cell_type": "code",
   "execution_count": 8,
   "metadata": {},
   "outputs": [
    {
     "data": {
      "text/plain": [
       "(93, 142406)"
      ]
     },
     "execution_count": 8,
     "metadata": {},
     "output_type": "execute_result"
    }
   ],
   "source": [
    "len(cat.df), len(col.df)"
   ]
  },
  {
   "cell_type": "markdown",
   "metadata": {},
   "source": [
    "You can get summary information by using `.nunique()` and `.unique()` methods:"
   ]
  },
  {
   "cell_type": "code",
   "execution_count": 9,
   "metadata": {},
   "outputs": [
    {
     "name": "stdout",
     "output_type": "stream",
     "text": [
      "{   'activity_id': {'count': 2, 'values': ['CMIP', 'ScenarioMIP']},\n",
      "    'source_id': {   'count': 4,\n",
      "                     'values': [   'CanESM5',\n",
      "                                   'IPSL-CM6A-LR',\n",
      "                                   'MIROC-ES2L',\n",
      "                                   'MPI-ESM1-2-HR']}}\n"
     ]
    }
   ],
   "source": [
    "pprint.pprint(cat.unique(columns=[\"source_id\", \"activity_id\"]), indent=4)"
   ]
  },
  {
   "cell_type": "code",
   "execution_count": 10,
   "metadata": {},
   "outputs": [
    {
     "data": {
      "text/plain": [
       "activity_id        2\n",
       "institution_id     4\n",
       "source_id          4\n",
       "experiment_id      2\n",
       "member_id         45\n",
       "table_id           1\n",
       "variable_id        1\n",
       "grid_label         1\n",
       "zstore            93\n",
       "dcpp_init_year     0\n",
       "dtype: int64"
      ]
     },
     "execution_count": 10,
     "metadata": {},
     "output_type": "execute_result"
    }
   ],
   "source": [
    "cat.nunique()"
   ]
  },
  {
   "cell_type": "markdown",
   "metadata": {},
   "source": [
    "## Loading data\n",
    "\n",
    "The best part about `intake-esm` is that it enables loading data directly into an [xarray.Dataset](http://xarray.pydata.org/en/stable/api.html#dataset).\n",
    "\n",
    "Note that data on the cloud are in \n",
    "[zarr](https://zarr.readthedocs.io/en/stable/) and data on \n",
    "[glade](https://www2.cisl.ucar.edu/resources/storage-and-file-systems/glade-file-spaces) are stored as \n",
    "[netCDF](https://www.unidata.ucar.edu/software/netcdf/) files. This is opaque to the user!\n",
    "\n",
    "`intake-esm` has rules for aggegating datasets; these rules are defined in the collection-specification file."
   ]
  },
  {
   "cell_type": "code",
   "execution_count": 11,
   "metadata": {},
   "outputs": [
    {
     "name": "stdout",
     "output_type": "stream",
     "text": [
      "Progress: |███████████████████████████████████████████████████████████████████████████████| 100.0% \n",
      "\n",
      "--> The keys in the returned dictionary of datasets are constructed as follows:\n",
      "\t'activity_id.institution_id.source_id.experiment_id.table_id.grid_label'\n",
      "             \n",
      "--> There are 7 group(s)\n"
     ]
    }
   ],
   "source": [
    "dset_dict = cat.to_dataset_dict(zarr_kwargs={'consolidated': True, 'decode_times': False}, \n",
    "                                cdf_kwargs={'chunks': {}, 'decode_times': False})"
   ]
  },
  {
   "cell_type": "markdown",
   "metadata": {},
   "source": [
    "`dset_dict` is a dictionary of `xarray.Dataset`'s; its keys are constructed to refer to compatible groups."
   ]
  },
  {
   "cell_type": "code",
   "execution_count": 12,
   "metadata": {},
   "outputs": [
    {
     "data": {
      "text/plain": [
       "dict_keys(['ScenarioMIP.IPSL.IPSL-CM6A-LR.ssp585.Oyr.gn', 'ScenarioMIP.MIROC.MIROC-ES2L.ssp585.Oyr.gn', 'ScenarioMIP.DKRZ.MPI-ESM1-2-HR.ssp585.Oyr.gn', 'CMIP.MIROC.MIROC-ES2L.historical.Oyr.gn', 'ScenarioMIP.CCCma.CanESM5.ssp585.Oyr.gn', 'CMIP.IPSL.IPSL-CM6A-LR.historical.Oyr.gn', 'CMIP.CCCma.CanESM5.historical.Oyr.gn'])"
      ]
     },
     "execution_count": 12,
     "metadata": {},
     "output_type": "execute_result"
    }
   ],
   "source": [
    "dset_dict.keys()"
   ]
  },
  {
   "cell_type": "markdown",
   "metadata": {},
   "source": [
    "We can access a particular dataset as follows:"
   ]
  },
  {
   "cell_type": "code",
   "execution_count": 13,
   "metadata": {},
   "outputs": [
    {
     "data": {
      "text/plain": [
       "<xarray.Dataset>\n",
       "Dimensions:             (bnds: 2, i: 360, j: 291, lev: 45, member_id: 35, time: 165, vertices: 4)\n",
       "Coordinates:\n",
       "    time_bnds           (time, bnds) float64 dask.array<chunksize=(165, 2), meta=np.ndarray>\n",
       "    lev_bnds            (lev, bnds) float64 dask.array<chunksize=(45, 2), meta=np.ndarray>\n",
       "    latitude            (j, i) float64 dask.array<chunksize=(291, 360), meta=np.ndarray>\n",
       "    longitude           (j, i) float64 dask.array<chunksize=(291, 360), meta=np.ndarray>\n",
       "  * j                   (j) int32 0 1 2 3 4 5 6 ... 284 285 286 287 288 289 290\n",
       "  * lev                 (lev) float64 3.047 9.454 16.36 ... 5.375e+03 5.625e+03\n",
       "  * time                (time) float64 182.5 547.5 912.5 ... 5.968e+04 6.004e+04\n",
       "  * i                   (i) int32 0 1 2 3 4 5 6 ... 353 354 355 356 357 358 359\n",
       "  * member_id           (member_id) <U9 'r10i1p1f1' 'r10i1p2f1' ... 'r9i1p2f1'\n",
       "Dimensions without coordinates: bnds, vertices\n",
       "Data variables:\n",
       "    vertices_latitude   (j, i, vertices) float64 dask.array<chunksize=(291, 360, 4), meta=np.ndarray>\n",
       "    vertices_longitude  (j, i, vertices) float64 dask.array<chunksize=(291, 360, 4), meta=np.ndarray>\n",
       "    o2                  (member_id, time, lev, j, i) float32 dask.array<chunksize=(1, 12, 45, 291, 360), meta=np.ndarray>\n",
       "Attributes:\n",
       "    source_id:                   CanESM5\n",
       "    status:                      2019-10-25;created;by nhn2@columbia.edu\n",
       "    initialization_index:        1\n",
       "    tracking_id:                 hdl:21.14100/41426118-701c-482b-ae16-82932e4...\n",
       "    mip_era:                     CMIP6\n",
       "    cmor_version:                3.4.0\n",
       "    frequency:                   yr\n",
       "    contact:                     ec.cccma.info-info.ccmac.ec@canada.ca\n",
       "    branch_time_in_child:        0.0\n",
       "    parent_experiment_id:        piControl\n",
       "    forcing_index:               1\n",
       "    Conventions:                 CF-1.7 CMIP-6.2\n",
       "    further_info_url:            https://furtherinfo.es-doc.org/CMIP6.CCCma.C...\n",
       "    title:                       CanESM5 output prepared for CMIP6\n",
       "    CCCma_runid:                 p2-his09\n",
       "    activity_id:                 CMIP\n",
       "    branch_method:               Spin-up documentation\n",
       "    sub_experiment_id:           none\n",
       "    CCCma_parent_runid:          p2-pictrl\n",
       "    parent_time_units:           days since 1850-01-01 0:0:0.0\n",
       "    license:                     CMIP6 model data produced by The Government ...\n",
       "    grid:                        ORCA1 tripolar grid, 1 deg with refinement t...\n",
       "    YMDH_branch_time_in_parent:  5950:01:01:00\n",
       "    intake_esm_varname:          o2\n",
       "    parent_mip_era:              CMIP6\n",
       "    table_info:                  Creation Date:(20 February 2019) MD5:374fbe5...\n",
       "    external_variables:          areacello volcello\n",
       "    history:                     2019-05-02T13:53:53Z ;rewrote data to be con...\n",
       "    branch_time_in_parent:       1496500.0\n",
       "    nominal_resolution:          100 km\n",
       "    realm:                       ocnBgchem\n",
       "    institution_id:              CCCma\n",
       "    CCCma_model_hash:            Unknown\n",
       "    experiment:                  all-forcing simulation of the recent past\n",
       "    creation_date:               2019-05-30T08:58:45Z\n",
       "    table_id:                    Oyr\n",
       "    references:                  Geophysical Model Development Special issue ...\n",
       "    version:                     v20190429\n",
       "    YMDH_branch_time_in_child:   1850:01:01:00\n",
       "    product:                     model-output\n",
       "    source:                      CanESM5 (2019): \\naerosol: interactive\\natmo...\n",
       "    sub_experiment:              none\n",
       "    variant_label:               r9i1p2f1\n",
       "    parent_source_id:            CanESM5\n",
       "    institution:                 Canadian Centre for Climate Modelling and An...\n",
       "    data_specs_version:          01.00.29\n",
       "    parent_activity_id:          CMIP\n",
       "    source_type:                 AOGCM\n",
       "    realization_index:           9\n",
       "    grid_label:                  gn\n",
       "    experiment_id:               historical\n",
       "    variable_id:                 o2"
      ]
     },
     "execution_count": 13,
     "metadata": {},
     "output_type": "execute_result"
    }
   ],
   "source": [
    "ds = dset_dict['CMIP.CCCma.CanESM5.historical.Oyr.gn']\n",
    "ds"
   ]
  },
  {
   "cell_type": "markdown",
   "metadata": {},
   "source": [
    "Let’s create a quick plot for a slice of the data:"
   ]
  },
  {
   "cell_type": "code",
   "execution_count": 14,
   "metadata": {},
   "outputs": [
    {
     "data": {
      "text/plain": [
       "<xarray.plot.facetgrid.FacetGrid at 0x116a39e80>"
      ]
     },
     "execution_count": 14,
     "metadata": {},
     "output_type": "execute_result"
    },
    {
     "data": {
      "image/png": "[encoded data removed]",
      "text/plain": [
       "<Figure size 720x432 with 7 Axes>"
      ]
     },
     "metadata": {
      "needs_background": "light"
     },
     "output_type": "display_data"
    }
   ],
   "source": [
    "%matplotlib inline\n",
    "ds.o2.isel(time=0, lev=0, member_id=range(1, 24, 4))\\\n",
    "      .plot(col='member_id', col_wrap=3, robust=True)"
   ]
  },
  {
   "cell_type": "markdown",
   "metadata": {},
   "source": [
    "We can execute more searches against the original catalog and/or against a subset of the original catalog:"
   ]
  },
  {
   "cell_type": "code",
   "execution_count": 15,
   "metadata": {},
   "outputs": [
    {
     "name": "stdout",
     "output_type": "stream",
     "text": [
      "CPU times: user 23.4 ms, sys: 1.79 ms, total: 25.2 ms\n",
      "Wall time: 23.9 ms\n"
     ]
    },
    {
     "data": {
      "text/html": [
       "<div>\n",
       "<style scoped>\n",
       "    .dataframe tbody tr th:only-of-type {\n",
       "        vertical-align: middle;\n",
       "    }\n",
       "\n",
       "    .dataframe tbody tr th {\n",
       "        vertical-align: top;\n",
       "    }\n",
       "\n",
       "    .dataframe thead th {\n",
       "        text-align: right;\n",
       "    }\n",
       "</style>\n",
       "<table border=\"1\" class=\"dataframe\">\n",
       "  <thead>\n",
       "    <tr style=\"text-align: right;\">\n",
       "      <th></th>\n",
       "      <th>activity_id</th>\n",
       "      <th>institution_id</th>\n",
       "      <th>source_id</th>\n",
       "      <th>experiment_id</th>\n",
       "      <th>member_id</th>\n",
       "      <th>table_id</th>\n",
       "      <th>variable_id</th>\n",
       "      <th>grid_label</th>\n",
       "      <th>zstore</th>\n",
       "      <th>dcpp_init_year</th>\n",
       "    </tr>\n",
       "  </thead>\n",
       "  <tbody>\n",
       "    <tr>\n",
       "      <th>0</th>\n",
       "      <td>CMIP</td>\n",
       "      <td>BCC</td>\n",
       "      <td>BCC-ESM1</td>\n",
       "      <td>1pctCO2</td>\n",
       "      <td>r1i1p1f1</td>\n",
       "      <td>Ofx</td>\n",
       "      <td>volcello</td>\n",
       "      <td>gn</td>\n",
       "      <td>gs://cmip6/CMIP/BCC/BCC-ESM1/1pctCO2/r1i1p1f1/...</td>\n",
       "      <td>NaN</td>\n",
       "    </tr>\n",
       "    <tr>\n",
       "      <th>1</th>\n",
       "      <td>CMIP</td>\n",
       "      <td>MPI-M</td>\n",
       "      <td>MPI-ESM1-2-HR</td>\n",
       "      <td>historical</td>\n",
       "      <td>r1i1p1f1</td>\n",
       "      <td>Ofx</td>\n",
       "      <td>volcello</td>\n",
       "      <td>gn</td>\n",
       "      <td>gs://cmip6/CMIP/MPI-M/MPI-ESM1-2-HR/historical...</td>\n",
       "      <td>NaN</td>\n",
       "    </tr>\n",
       "    <tr>\n",
       "      <th>2</th>\n",
       "      <td>CMIP</td>\n",
       "      <td>MPI-M</td>\n",
       "      <td>MPI-ESM1-2-HR</td>\n",
       "      <td>historical</td>\n",
       "      <td>r5i1p1f1</td>\n",
       "      <td>Ofx</td>\n",
       "      <td>volcello</td>\n",
       "      <td>gn</td>\n",
       "      <td>gs://cmip6/CMIP/MPI-M/MPI-ESM1-2-HR/historical...</td>\n",
       "      <td>NaN</td>\n",
       "    </tr>\n",
       "    <tr>\n",
       "      <th>3</th>\n",
       "      <td>CMIP</td>\n",
       "      <td>MPI-M</td>\n",
       "      <td>MPI-ESM1-2-HR</td>\n",
       "      <td>historical</td>\n",
       "      <td>r6i1p1f1</td>\n",
       "      <td>Ofx</td>\n",
       "      <td>volcello</td>\n",
       "      <td>gn</td>\n",
       "      <td>gs://cmip6/CMIP/MPI-M/MPI-ESM1-2-HR/historical...</td>\n",
       "      <td>NaN</td>\n",
       "    </tr>\n",
       "    <tr>\n",
       "      <th>4</th>\n",
       "      <td>CMIP</td>\n",
       "      <td>MPI-M</td>\n",
       "      <td>MPI-ESM1-2-HR</td>\n",
       "      <td>historical</td>\n",
       "      <td>r8i1p1f1</td>\n",
       "      <td>Ofx</td>\n",
       "      <td>volcello</td>\n",
       "      <td>gn</td>\n",
       "      <td>gs://cmip6/CMIP/MPI-M/MPI-ESM1-2-HR/historical...</td>\n",
       "      <td>NaN</td>\n",
       "    </tr>\n",
       "  </tbody>\n",
       "</table>\n",
       "</div>"
      ],
      "text/plain": [
       "  activity_id institution_id      source_id experiment_id member_id table_id  \\\n",
       "0        CMIP            BCC       BCC-ESM1       1pctCO2  r1i1p1f1      Ofx   \n",
       "1        CMIP          MPI-M  MPI-ESM1-2-HR    historical  r1i1p1f1      Ofx   \n",
       "2        CMIP          MPI-M  MPI-ESM1-2-HR    historical  r5i1p1f1      Ofx   \n",
       "3        CMIP          MPI-M  MPI-ESM1-2-HR    historical  r6i1p1f1      Ofx   \n",
       "4        CMIP          MPI-M  MPI-ESM1-2-HR    historical  r8i1p1f1      Ofx   \n",
       "\n",
       "  variable_id grid_label                                             zstore  \\\n",
       "0    volcello         gn  gs://cmip6/CMIP/BCC/BCC-ESM1/1pctCO2/r1i1p1f1/...   \n",
       "1    volcello         gn  gs://cmip6/CMIP/MPI-M/MPI-ESM1-2-HR/historical...   \n",
       "2    volcello         gn  gs://cmip6/CMIP/MPI-M/MPI-ESM1-2-HR/historical...   \n",
       "3    volcello         gn  gs://cmip6/CMIP/MPI-M/MPI-ESM1-2-HR/historical...   \n",
       "4    volcello         gn  gs://cmip6/CMIP/MPI-M/MPI-ESM1-2-HR/historical...   \n",
       "\n",
       "   dcpp_init_year  \n",
       "0             NaN  \n",
       "1             NaN  \n",
       "2             NaN  \n",
       "3             NaN  \n",
       "4             NaN  "
      ]
     },
     "execution_count": 15,
     "metadata": {},
     "output_type": "execute_result"
    }
   ],
   "source": [
    "%%time\n",
    "cat_fx = col.search(table_id='Ofx', grid_label='gn',\n",
    "                    variable_id='volcello')\n",
    "cat_fx.df.head()"
   ]
  },
  {
   "cell_type": "code",
   "execution_count": 16,
   "metadata": {},
   "outputs": [
    {
     "name": "stdout",
     "output_type": "stream",
     "text": [
      "CPU times: user 2.02 ms, sys: 94 µs, total: 2.12 ms\n",
      "Wall time: 2.07 ms\n"
     ]
    },
    {
     "data": {
      "text/html": [
       "<div>\n",
       "<style scoped>\n",
       "    .dataframe tbody tr th:only-of-type {\n",
       "        vertical-align: middle;\n",
       "    }\n",
       "\n",
       "    .dataframe tbody tr th {\n",
       "        vertical-align: top;\n",
       "    }\n",
       "\n",
       "    .dataframe thead th {\n",
       "        text-align: right;\n",
       "    }\n",
       "</style>\n",
       "<table border=\"1\" class=\"dataframe\">\n",
       "  <thead>\n",
       "    <tr style=\"text-align: right;\">\n",
       "      <th></th>\n",
       "      <th>activity_id</th>\n",
       "      <th>institution_id</th>\n",
       "      <th>source_id</th>\n",
       "      <th>experiment_id</th>\n",
       "      <th>member_id</th>\n",
       "      <th>table_id</th>\n",
       "      <th>variable_id</th>\n",
       "      <th>grid_label</th>\n",
       "      <th>zstore</th>\n",
       "      <th>dcpp_init_year</th>\n",
       "    </tr>\n",
       "  </thead>\n",
       "  <tbody>\n",
       "    <tr>\n",
       "      <th>0</th>\n",
       "      <td>CMIP</td>\n",
       "      <td>NCAR</td>\n",
       "      <td>CESM2</td>\n",
       "      <td>1pctCO2</td>\n",
       "      <td>r1i1p1f1</td>\n",
       "      <td>Ofx</td>\n",
       "      <td>volcello</td>\n",
       "      <td>gn</td>\n",
       "      <td>gs://cmip6/CMIP/NCAR/CESM2/1pctCO2/r1i1p1f1/Of...</td>\n",
       "      <td>NaN</td>\n",
       "    </tr>\n",
       "    <tr>\n",
       "      <th>1</th>\n",
       "      <td>CMIP</td>\n",
       "      <td>NCAR</td>\n",
       "      <td>CESM2</td>\n",
       "      <td>abrupt-4xCO2</td>\n",
       "      <td>r1i1p1f1</td>\n",
       "      <td>Ofx</td>\n",
       "      <td>volcello</td>\n",
       "      <td>gn</td>\n",
       "      <td>gs://cmip6/CMIP/NCAR/CESM2/abrupt-4xCO2/r1i1p1...</td>\n",
       "      <td>NaN</td>\n",
       "    </tr>\n",
       "    <tr>\n",
       "      <th>2</th>\n",
       "      <td>CMIP</td>\n",
       "      <td>NCAR</td>\n",
       "      <td>CESM2</td>\n",
       "      <td>esm-piControl</td>\n",
       "      <td>r1i1p1f1</td>\n",
       "      <td>Ofx</td>\n",
       "      <td>volcello</td>\n",
       "      <td>gn</td>\n",
       "      <td>gs://cmip6/CMIP/NCAR/CESM2/esm-piControl/r1i1p...</td>\n",
       "      <td>NaN</td>\n",
       "    </tr>\n",
       "    <tr>\n",
       "      <th>3</th>\n",
       "      <td>CMIP</td>\n",
       "      <td>NCAR</td>\n",
       "      <td>CESM2</td>\n",
       "      <td>historical</td>\n",
       "      <td>r10i1p1f1</td>\n",
       "      <td>Ofx</td>\n",
       "      <td>volcello</td>\n",
       "      <td>gn</td>\n",
       "      <td>gs://cmip6/CMIP/NCAR/CESM2/historical/r10i1p1f...</td>\n",
       "      <td>NaN</td>\n",
       "    </tr>\n",
       "    <tr>\n",
       "      <th>4</th>\n",
       "      <td>CMIP</td>\n",
       "      <td>NCAR</td>\n",
       "      <td>CESM2</td>\n",
       "      <td>historical</td>\n",
       "      <td>r11i1p1f1</td>\n",
       "      <td>Ofx</td>\n",
       "      <td>volcello</td>\n",
       "      <td>gn</td>\n",
       "      <td>gs://cmip6/CMIP/NCAR/CESM2/historical/r11i1p1f...</td>\n",
       "      <td>NaN</td>\n",
       "    </tr>\n",
       "  </tbody>\n",
       "</table>\n",
       "</div>"
      ],
      "text/plain": [
       "  activity_id institution_id source_id  experiment_id  member_id table_id  \\\n",
       "0        CMIP           NCAR     CESM2        1pctCO2   r1i1p1f1      Ofx   \n",
       "1        CMIP           NCAR     CESM2   abrupt-4xCO2   r1i1p1f1      Ofx   \n",
       "2        CMIP           NCAR     CESM2  esm-piControl   r1i1p1f1      Ofx   \n",
       "3        CMIP           NCAR     CESM2     historical  r10i1p1f1      Ofx   \n",
       "4        CMIP           NCAR     CESM2     historical  r11i1p1f1      Ofx   \n",
       "\n",
       "  variable_id grid_label                                             zstore  \\\n",
       "0    volcello         gn  gs://cmip6/CMIP/NCAR/CESM2/1pctCO2/r1i1p1f1/Of...   \n",
       "1    volcello         gn  gs://cmip6/CMIP/NCAR/CESM2/abrupt-4xCO2/r1i1p1...   \n",
       "2    volcello         gn  gs://cmip6/CMIP/NCAR/CESM2/esm-piControl/r1i1p...   \n",
       "3    volcello         gn  gs://cmip6/CMIP/NCAR/CESM2/historical/r10i1p1f...   \n",
       "4    volcello         gn  gs://cmip6/CMIP/NCAR/CESM2/historical/r11i1p1f...   \n",
       "\n",
       "   dcpp_init_year  \n",
       "0             NaN  \n",
       "1             NaN  \n",
       "2             NaN  \n",
       "3             NaN  \n",
       "4             NaN  "
      ]
     },
     "execution_count": 16,
     "metadata": {},
     "output_type": "execute_result"
    }
   ],
   "source": [
    "%%time\n",
    "a = cat_fx.search(source_id=\"CESM2\")\n",
    "a.df.head()"
   ]
  },
  {
   "cell_type": "code",
   "execution_count": 17,
   "metadata": {},
   "outputs": [
    {
     "data": {
      "text/plain": [
       "(51, 25)"
      ]
     },
     "execution_count": 17,
     "metadata": {},
     "output_type": "execute_result"
    }
   ],
   "source": [
    "len(cat_fx.df), len(a.df)"
   ]
  },
  {
   "cell_type": "markdown",
   "metadata": {},
   "source": [
    "## Using custom preprocessing functions\n",
    "\n",
    "When comparing many models it is often necessary to preprocess (e.g. rename certain variables) them before running some analysis step. The `preprocess` argument lets the user pass a function, which is executed for each loaded asset before aggregations."
   ]
  },
  {
   "cell_type": "code",
   "execution_count": 18,
   "metadata": {},
   "outputs": [
    {
     "data": {
      "text/html": [
       "<div>\n",
       "<style scoped>\n",
       "    .dataframe tbody tr th:only-of-type {\n",
       "        vertical-align: middle;\n",
       "    }\n",
       "\n",
       "    .dataframe tbody tr th {\n",
       "        vertical-align: top;\n",
       "    }\n",
       "\n",
       "    .dataframe thead th {\n",
       "        text-align: right;\n",
       "    }\n",
       "</style>\n",
       "<table border=\"1\" class=\"dataframe\">\n",
       "  <thead>\n",
       "    <tr style=\"text-align: right;\">\n",
       "      <th></th>\n",
       "      <th>activity_id</th>\n",
       "      <th>institution_id</th>\n",
       "      <th>source_id</th>\n",
       "      <th>experiment_id</th>\n",
       "      <th>member_id</th>\n",
       "      <th>table_id</th>\n",
       "      <th>variable_id</th>\n",
       "      <th>grid_label</th>\n",
       "      <th>zstore</th>\n",
       "      <th>dcpp_init_year</th>\n",
       "    </tr>\n",
       "  </thead>\n",
       "  <tbody>\n",
       "    <tr>\n",
       "      <th>0</th>\n",
       "      <td>CMIP</td>\n",
       "      <td>CCCma</td>\n",
       "      <td>CanESM5</td>\n",
       "      <td>historical</td>\n",
       "      <td>r10i1p1f1</td>\n",
       "      <td>Oyr</td>\n",
       "      <td>o2</td>\n",
       "      <td>gn</td>\n",
       "      <td>gs://cmip6/CMIP/CCCma/CanESM5/historical/r10i1...</td>\n",
       "      <td>NaN</td>\n",
       "    </tr>\n",
       "    <tr>\n",
       "      <th>1</th>\n",
       "      <td>CMIP</td>\n",
       "      <td>IPSL</td>\n",
       "      <td>IPSL-CM6A-LR</td>\n",
       "      <td>historical</td>\n",
       "      <td>r10i1p1f1</td>\n",
       "      <td>Oyr</td>\n",
       "      <td>o2</td>\n",
       "      <td>gn</td>\n",
       "      <td>gs://cmip6/CMIP/IPSL/IPSL-CM6A-LR/historical/r...</td>\n",
       "      <td>NaN</td>\n",
       "    </tr>\n",
       "  </tbody>\n",
       "</table>\n",
       "</div>"
      ],
      "text/plain": [
       "  activity_id institution_id     source_id experiment_id  member_id table_id  \\\n",
       "0        CMIP          CCCma       CanESM5    historical  r10i1p1f1      Oyr   \n",
       "1        CMIP           IPSL  IPSL-CM6A-LR    historical  r10i1p1f1      Oyr   \n",
       "\n",
       "  variable_id grid_label                                             zstore  \\\n",
       "0          o2         gn  gs://cmip6/CMIP/CCCma/CanESM5/historical/r10i1...   \n",
       "1          o2         gn  gs://cmip6/CMIP/IPSL/IPSL-CM6A-LR/historical/r...   \n",
       "\n",
       "   dcpp_init_year  \n",
       "0             NaN  \n",
       "1             NaN  "
      ]
     },
     "execution_count": 18,
     "metadata": {},
     "output_type": "execute_result"
    }
   ],
   "source": [
    "cat_pp = col.search(experiment_id=['historical'], table_id='Oyr', variable_id='o2', \n",
    "                    grid_label='gn', source_id=['IPSL-CM6A-LR', 'CanESM5'],\n",
    "                    member_id='r10i1p1f1')\n",
    "cat_pp.df"
   ]
  },
  {
   "cell_type": "code",
   "execution_count": 19,
   "metadata": {},
   "outputs": [
    {
     "name": "stdout",
     "output_type": "stream",
     "text": [
      "Progress: |███████████████████████████████████████████████████████████████████████████████| 100.0% \n",
      "\n",
      "--> The keys in the returned dictionary of datasets are constructed as follows:\n",
      "\t'activity_id.institution_id.source_id.experiment_id.table_id.grid_label'\n",
      "             \n",
      "--> There are 2 group(s)\n"
     ]
    }
   ],
   "source": [
    "# load the example\n",
    "dset_dict_raw = cat_pp.to_dataset_dict(zarr_kwargs={'consolidated': True})"
   ]
  },
  {
   "cell_type": "code",
   "execution_count": 20,
   "metadata": {},
   "outputs": [
    {
     "name": "stdout",
     "output_type": "stream",
     "text": [
      "dataset key=CMIP.IPSL.IPSL-CM6A-LR.historical.Oyr.gn\n",
      "\tdimensions=['axis_nbounds', 'member_id', 'nvertex', 'olevel', 'time', 'x', 'y']\n",
      "\n",
      "dataset key=CMIP.CCCma.CanESM5.historical.Oyr.gn\n",
      "\tdimensions=['bnds', 'i', 'j', 'lev', 'member_id', 'time', 'vertices']\n",
      "\n"
     ]
    }
   ],
   "source": [
    "for k, ds in dset_dict_raw.items():\n",
    "    print(f\"dataset key={k}\\n\\tdimensions={sorted(list(ds.dims))}\\n\")"
   ]
  },
  {
   "cell_type": "markdown",
   "metadata": {},
   "source": [
    "Note that both models follow a different naming scheme. We can define a little helper function and pass it to ` .to_dataset_dict()` to fix this. For demonstration purposes we will focus on the vertical level dimension which is called `lev` in `CanESM5` and `olevel` in `IPSL-CM6A-LR`."
   ]
  },
  {
   "cell_type": "code",
   "execution_count": 21,
   "metadata": {},
   "outputs": [],
   "source": [
    "def helper_func(ds):\n",
    "    ds = ds.copy()\n",
    "    # a short example \n",
    "    if 'olevel' in ds.dims: \n",
    "        ds = ds.rename({'olevel':'lev'})\n",
    "    return ds"
   ]
  },
  {
   "cell_type": "code",
   "execution_count": 22,
   "metadata": {},
   "outputs": [
    {
     "name": "stdout",
     "output_type": "stream",
     "text": [
      "Progress: |███████████████████████████████████████████████████████████████████████████████| 100.0% \n",
      "\n",
      "--> The keys in the returned dictionary of datasets are constructed as follows:\n",
      "\t'activity_id.institution_id.source_id.experiment_id.table_id.grid_label'\n",
      "             \n",
      "--> There are 2 group(s)\n"
     ]
    }
   ],
   "source": [
    "dset_dict_fixed = cat_pp.to_dataset_dict(zarr_kwargs={'consolidated': True}, preprocess=helper_func)"
   ]
  },
  {
   "cell_type": "code",
   "execution_count": 23,
   "metadata": {},
   "outputs": [
    {
     "name": "stdout",
     "output_type": "stream",
     "text": [
      "dataset key=CMIP.IPSL.IPSL-CM6A-LR.historical.Oyr.gn\n",
      "\tdimensions=['axis_nbounds', 'lev', 'member_id', 'nvertex', 'time', 'x', 'y']\n",
      "\n",
      "dataset key=CMIP.CCCma.CanESM5.historical.Oyr.gn\n",
      "\tdimensions=['bnds', 'i', 'j', 'lev', 'member_id', 'time', 'vertices']\n",
      "\n"
     ]
    }
   ],
   "source": [
    "for k, ds in dset_dict_fixed.items():\n",
    "    print(f\"dataset key={k}\\n\\tdimensions={sorted(list(ds.dims))}\\n\")"
   ]
  },
  {
   "cell_type": "markdown",
   "metadata": {},
   "source": [
    "This was just an example for one dimension. \n",
    "\n",
    "\n",
    "<div class=\"alert alert-info\">\n",
    "\n",
    "**Note:** \n",
    "    \n",
    "Check out [cmip6-preprocessing](https://github.com/jbusecke/cmip6_preprocessing/blob/master/notebooks/tutorial_intake_esm_preprocessing.ipynb) for a full renaming function for all available CMIP6 models and some other utilities.\n",
    "    \n",
    "    \n",
    "</div>\n",
    "\n",
    "\n"
   ]
  },
  {
   "cell_type": "code",
   "execution_count": null,
   "metadata": {},
   "outputs": [],
   "source": [
    "import intake_esm\n",
    "%load_ext watermark\n",
    "%watermark -d -iv -m -g "
   ]
  }
 ],
 "metadata": {
  "kernelspec": {
   "display_name": "Python 3",
   "language": "python",
   "name": "python3"
  },
  "language_info": {
   "codemirror_mode": {
    "name": "ipython",
    "version": 3
   },
   "file_extension": ".py",
   "mimetype": "text/x-python",
   "name": "python",
   "nbconvert_exporter": "python",
   "pygments_lexer": "ipython3",
   "version": "3.7.3"
  },
  "varInspector": {
   "cols": {
    "lenName": 16,
    "lenType": 16,
    "lenVar": 40
   },
   "kernels_config": {
    "python": {
     "delete_cmd_postfix": "",
     "delete_cmd_prefix": "del ",
     "library": "var_list.py",
     "varRefreshCmd": "print(var_dic_list())"
    },
    "r": {
     "delete_cmd_postfix": ") ",
     "delete_cmd_prefix": "rm(",
     "library": "var_list.r",
     "varRefreshCmd": "cat(var_dic_list()) "
    }
   },
   "types_to_exclude": [
    "module",
    "function",
    "builtin_function_or_method",
    "instance",
    "_Feature"
   ],
   "window_display": false
  }
 },
 "nbformat": 4,
 "nbformat_minor": 4
}
