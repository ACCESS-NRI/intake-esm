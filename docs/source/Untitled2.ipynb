{
 "cells": [
  {
   "cell_type": "code",
   "execution_count": 1,
   "metadata": {},
   "outputs": [
    {
     "name": "stderr",
     "output_type": "stream",
     "text": [
      "/ncar/usr/jupyterhub/envs/pangeo-3.6/lib/python3.6/site-packages/distributed/bokeh/core.py:57: UserWarning: \n",
      "Port 8787 is already in use. \n",
      "Perhaps you already have a cluster running?\n",
      "Hosting the diagnostics dashboard on a random port instead.\n",
      "  warnings.warn('\\n' + msg)\n"
     ]
    },
    {
     "data": {
      "application/vnd.jupyter.widget-view+json": {
       "model_id": "9eb39cc25cd04efe8d2de032e2dc9e01",
       "version_major": 2,
       "version_minor": 0
      },
      "text/plain": [
       "VBox(children=(HTML(value='<h2>PBSCluster</h2>'), HBox(children=(HTML(value='\\n<div>\\n  <style scoped>\\n    .d…"
      ]
     },
     "metadata": {},
     "output_type": "display_data"
    }
   ],
   "source": [
    "import xarray as xr\n",
    "from dask.distributed import Client\n",
    "\n",
    "from dask_jobqueue import PBSCluster\n",
    "cluster = PBSCluster()\n",
    "cluster"
   ]
  },
  {
   "cell_type": "code",
   "execution_count": 2,
   "metadata": {},
   "outputs": [
    {
     "data": {
      "application/vnd.jupyter.widget-view+json": {
       "model_id": "9eb39cc25cd04efe8d2de032e2dc9e01",
       "version_major": 2,
       "version_minor": 0
      },
      "text/plain": [
       "VBox(children=(HTML(value='<h2>PBSCluster</h2>'), HBox(children=(HTML(value='\\n<div>\\n  <style scoped>\\n    .d…"
      ]
     },
     "metadata": {},
     "output_type": "display_data"
    }
   ],
   "source": [
    "cluster"
   ]
  },
  {
   "cell_type": "code",
   "execution_count": 3,
   "metadata": {},
   "outputs": [
    {
     "name": "stderr",
     "output_type": "stream",
     "text": [
      "tornado.application - ERROR - Exception in callback functools.partial(<function wrap.<locals>.null_wrapper at 0x2aaacf7ec510>, 2)\n",
      "Traceback (most recent call last):\n",
      "  File \"/ncar/usr/jupyterhub/envs/pangeo-3.6/lib/python3.6/site-packages/tornado/ioloop.py\", line 758, in _run_callback\n",
      "    ret = callback()\n",
      "  File \"/ncar/usr/jupyterhub/envs/pangeo-3.6/lib/python3.6/site-packages/tornado/stack_context.py\", line 300, in null_wrapper\n",
      "    return fn(*args, **kwargs)\n",
      "  File \"/ncar/usr/jupyterhub/envs/pangeo-3.6/lib/python3.6/site-packages/dask_jobqueue/core.py\", line 416, in scale_up\n",
      "    self.start_workers(n - self._count_active_and_pending_workers())\n",
      "  File \"/ncar/usr/jupyterhub/envs/pangeo-3.6/lib/python3.6/site-packages/dask_jobqueue/core.py\", line 330, in start_workers\n",
      "    out = self._submit_job(fn)\n",
      "  File \"/ncar/usr/jupyterhub/envs/pangeo-3.6/lib/python3.6/site-packages/dask_jobqueue/core.py\", line 322, in _submit_job\n",
      "    return self._call(shlex.split(self.submit_command) + [script_filename])\n",
      "  File \"/ncar/usr/jupyterhub/envs/pangeo-3.6/lib/python3.6/site-packages/dask_jobqueue/core.py\", line 372, in _call\n",
      "    **kwargs)\n",
      "  File \"/ncar/usr/jupyterhub/envs/pangeo-3.6/lib/python3.6/subprocess.py\", line 709, in __init__\n",
      "    restore_signals, start_new_session)\n",
      "  File \"/ncar/usr/jupyterhub/envs/pangeo-3.6/lib/python3.6/subprocess.py\", line 1344, in _execute_child\n",
      "    raise child_exception_type(errno_num, err_msg, err_filename)\n",
      "FileNotFoundError: [Errno 2] No such file or directory: 'qsub': 'qsub'\n"
     ]
    }
   ],
   "source": [
    "cluster.scale(2)"
   ]
  },
  {
   "cell_type": "code",
   "execution_count": 1,
   "metadata": {},
   "outputs": [],
   "source": [
    "import os"
   ]
  },
  {
   "cell_type": "code",
   "execution_count": 2,
   "metadata": {},
   "outputs": [],
   "source": [
    "os.environ[\"PATH\"] = \"/opt/pbs/bin:\" +  os.environ[\"PATH\"]"
   ]
  },
  {
   "cell_type": "code",
   "execution_count": 3,
   "metadata": {},
   "outputs": [
    {
     "data": {
      "text/plain": [
       "'/opt/pbs/bin:/opt/bin/pbs/bin:/ncar/usr/jupyterhub/20190118/bin:/glade/u/apps/ch/opt/netcdf/4.4.1.1/intel/17.0.1/bin:/gpfs/u/apps/ch/opt/ncarcompilers/0.4.1/mpi:/opt/sgi/mpt/mpt-2.15/bin:/gpfs/u/apps/ch/opt/ncarcompilers/0.4.1:/glade/u/apps/opt/intel/2017u1/vtune_amplifier_xe_2017.1.0.486011/bin64:/glade/u/apps/opt/intel/2017u1/inspector_2017.1.1.484836/bin64:/glade/u/apps/opt/intel/2017u1/advisor_2017.1.1.486553/bin64:/glade/u/apps/opt/intel/2017u1/compilers_and_libraries/linux/bin/intel64:/glade/u/apps/ch/opt/usr/bin:/glade/u/apps/ch/opt/lmod/7.2.1/bin:/usr/sbin:/usr/bin:/sbin:/bin:/glade/u/apps/opt/hpss/hpss-client.5.0.2.p5/bin:/glade/u/apps/ch/local/bin:/glade/u/apps/ch/os/usr/bin:/glade/u/apps/ch/os/bin'"
      ]
     },
     "execution_count": 3,
     "metadata": {},
     "output_type": "execute_result"
    }
   ],
   "source": [
    "os.environ[\"PATH\"]"
   ]
  },
  {
   "cell_type": "code",
   "execution_count": 4,
   "metadata": {},
   "outputs": [
    {
     "name": "stderr",
     "output_type": "stream",
     "text": [
      "/ncar/usr/jupyterhub/envs/pangeo-3.6/lib/python3.6/site-packages/distributed/bokeh/core.py:57: UserWarning: \n",
      "Port 8787 is already in use. \n",
      "Perhaps you already have a cluster running?\n",
      "Hosting the diagnostics dashboard on a random port instead.\n",
      "  warnings.warn('\\n' + msg)\n"
     ]
    },
    {
     "data": {
      "application/vnd.jupyter.widget-view+json": {
       "model_id": "2ebc8a1aaa7943b78f254be7dc175aaf",
       "version_major": 2,
       "version_minor": 0
      },
      "text/plain": [
       "VBox(children=(HTML(value='<h2>PBSCluster</h2>'), HBox(children=(HTML(value='\\n<div>\\n  <style scoped>\\n    .d…"
      ]
     },
     "metadata": {},
     "output_type": "display_data"
    }
   ],
   "source": [
    "from dask.distributed import Client\n",
    "\n",
    "from dask_jobqueue import PBSCluster\n",
    "cluster = PBSCluster()\n",
    "cluster"
   ]
  },
  {
   "cell_type": "code",
   "execution_count": 5,
   "metadata": {},
   "outputs": [
    {
     "data": {
      "application/vnd.jupyter.widget-view+json": {
       "model_id": "2ebc8a1aaa7943b78f254be7dc175aaf",
       "version_major": 2,
       "version_minor": 0
      },
      "text/plain": [
       "VBox(children=(HTML(value='<h2>PBSCluster</h2>'), HBox(children=(HTML(value='\\n<div>\\n  <style scoped>\\n    .d…"
      ]
     },
     "metadata": {},
     "output_type": "display_data"
    }
   ],
   "source": [
    "cluster"
   ]
  },
  {
   "cell_type": "code",
   "execution_count": 6,
   "metadata": {},
   "outputs": [],
   "source": [
    "cluster.scale(2)"
   ]
  },
  {
   "cell_type": "code",
   "execution_count": null,
   "metadata": {},
   "outputs": [],
   "source": [
    "!qstat -u $USER"
   ]
  },
  {
   "cell_type": "code",
   "execution_count": null,
   "metadata": {},
   "outputs": [],
   "source": []
  }
 ],
 "metadata": {
  "kernelspec": {
   "display_name": "Pangeo (Python 3.6)",
   "language": "python",
   "name": "pangeo-3.6"
  },
  "language_info": {
   "codemirror_mode": {
    "name": "ipython",
    "version": 3
   },
   "file_extension": ".py",
   "mimetype": "text/x-python",
   "name": "python",
   "nbconvert_exporter": "python",
   "pygments_lexer": "ipython3",
   "version": "3.6.7"
  }
 },
 "nbformat": 4,
 "nbformat_minor": 2
}
