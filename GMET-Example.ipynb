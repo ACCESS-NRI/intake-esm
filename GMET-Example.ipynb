{
 "cells": [
  {
   "cell_type": "code",
   "execution_count": 1,
   "metadata": {},
   "outputs": [
    {
     "name": "stderr",
     "output_type": "stream",
     "text": [
      "/Users/abanihi/opt/miniconda3/envs/dev/lib/python3.6/site-packages/tqdm/autonotebook/__init__.py:14: TqdmExperimentalWarning: Using `tqdm.autonotebook.tqdm` in notebook mode. Use `tqdm.tqdm` instead to force console mode (e.g. in jupyter console)\n",
      "  \" (e.g. in jupyter console)\", TqdmExperimentalWarning)\n"
     ]
    }
   ],
   "source": [
    "import intake\n",
    "from intake_esm import config"
   ]
  },
  {
   "cell_type": "code",
   "execution_count": 2,
   "metadata": {},
   "outputs": [],
   "source": [
    "cdefinition = \"./tests/gmet.yml\""
   ]
  },
  {
   "cell_type": "code",
   "execution_count": 3,
   "metadata": {},
   "outputs": [
    {
     "name": "stderr",
     "output_type": "stream",
     "text": [
      "Working on version: v2_landmask\n",
      "Getting file listing : GMET_V2-TEST-LIST:input-file:./tests/gmet_v2_filelist.txt\n",
      "Building file database : GMET_V2-TEST-LIST:input-file:./tests/gmet_v2_filelist.txt\n",
      "None\n"
     ]
    },
    {
     "name": "stdout",
     "output_type": "stream",
     "text": [
      "<class 'pandas.core.frame.DataFrame'>\n",
      "RangeIndex: 3700 entries, 0 to 3699\n",
      "Data columns (total 11 columns):\n",
      "resource         3700 non-null object\n",
      "resource_type    3700 non-null object\n",
      "direct_access    3700 non-null object\n",
      "frequency        3700 non-null object\n",
      "member_id        3700 non-null object\n",
      "version          3700 non-null object\n",
      "time_range       3700 non-null object\n",
      "resolution       3700 non-null object\n",
      "file_fullpath    3700 non-null object\n",
      "file_basename    3700 non-null object\n",
      "file_dirname     3700 non-null object\n",
      "dtypes: object(11)\n",
      "memory usage: 318.0+ KB\n",
      "Persisting gmet_test_collection at : /Users/abanihi/.intake_esm/collections/gmet/gmet_test_collection.gmet.csv\n"
     ]
    }
   ],
   "source": [
    "col = intake.open_esm_metadatastore(collection_input_definition=cdefinition, overwrite_existing=True)"
   ]
  },
  {
   "cell_type": "code",
   "execution_count": 4,
   "metadata": {},
   "outputs": [
    {
     "data": {
      "text/html": [
       "<div>\n",
       "<style scoped>\n",
       "    .dataframe tbody tr th:only-of-type {\n",
       "        vertical-align: middle;\n",
       "    }\n",
       "\n",
       "    .dataframe tbody tr th {\n",
       "        vertical-align: top;\n",
       "    }\n",
       "\n",
       "    .dataframe thead th {\n",
       "        text-align: right;\n",
       "    }\n",
       "</style>\n",
       "<table border=\"1\" class=\"dataframe\">\n",
       "  <thead>\n",
       "    <tr style=\"text-align: right;\">\n",
       "      <th></th>\n",
       "      <th>resource</th>\n",
       "      <th>resource_type</th>\n",
       "      <th>direct_access</th>\n",
       "      <th>frequency</th>\n",
       "      <th>member_id</th>\n",
       "      <th>version</th>\n",
       "      <th>time_range</th>\n",
       "      <th>resolution</th>\n",
       "      <th>file_fullpath</th>\n",
       "      <th>file_basename</th>\n",
       "      <th>file_dirname</th>\n",
       "    </tr>\n",
       "  </thead>\n",
       "  <tbody>\n",
       "    <tr>\n",
       "      <th>0</th>\n",
       "      <td>GMET_V2-TEST-LIST:input-file:./tests/gmet_v2_f...</td>\n",
       "      <td>input-file</td>\n",
       "      <td>False</td>\n",
       "      <td>daily</td>\n",
       "      <td>68</td>\n",
       "      <td>v2_landmask</td>\n",
       "      <td>19810101-19811231</td>\n",
       "      <td>eighth</td>\n",
       "      <td>/glade/p/ral/hap/anewman/conus_v1p2/eighth/v2_...</td>\n",
       "      <td>conus_daily_eighth_19810101_19811231_068.nc4</td>\n",
       "      <td>/glade/p/ral/hap/anewman/conus_v1p2/eighth/v2_...</td>\n",
       "    </tr>\n",
       "    <tr>\n",
       "      <th>1</th>\n",
       "      <td>GMET_V2-TEST-LIST:input-file:./tests/gmet_v2_f...</td>\n",
       "      <td>input-file</td>\n",
       "      <td>False</td>\n",
       "      <td>daily</td>\n",
       "      <td>91</td>\n",
       "      <td>v2_landmask</td>\n",
       "      <td>20130101-20131231</td>\n",
       "      <td>eighth</td>\n",
       "      <td>/glade/p/ral/hap/anewman/conus_v1p2/eighth/v2_...</td>\n",
       "      <td>conus_daily_eighth_20130101_20131231_091.nc4</td>\n",
       "      <td>/glade/p/ral/hap/anewman/conus_v1p2/eighth/v2_...</td>\n",
       "    </tr>\n",
       "    <tr>\n",
       "      <th>2</th>\n",
       "      <td>GMET_V2-TEST-LIST:input-file:./tests/gmet_v2_f...</td>\n",
       "      <td>input-file</td>\n",
       "      <td>False</td>\n",
       "      <td>daily</td>\n",
       "      <td>17</td>\n",
       "      <td>v2_landmask</td>\n",
       "      <td>20000101-20001231</td>\n",
       "      <td>eighth</td>\n",
       "      <td>/glade/p/ral/hap/anewman/conus_v1p2/eighth/v2_...</td>\n",
       "      <td>conus_daily_eighth_20000101_20001231_017.nc4</td>\n",
       "      <td>/glade/p/ral/hap/anewman/conus_v1p2/eighth/v2_...</td>\n",
       "    </tr>\n",
       "    <tr>\n",
       "      <th>3</th>\n",
       "      <td>GMET_V2-TEST-LIST:input-file:./tests/gmet_v2_f...</td>\n",
       "      <td>input-file</td>\n",
       "      <td>False</td>\n",
       "      <td>daily</td>\n",
       "      <td>71</td>\n",
       "      <td>v2_landmask</td>\n",
       "      <td>20060101-20061231</td>\n",
       "      <td>eighth</td>\n",
       "      <td>/glade/p/ral/hap/anewman/conus_v1p2/eighth/v2_...</td>\n",
       "      <td>conus_daily_eighth_20060101_20061231_071.nc4</td>\n",
       "      <td>/glade/p/ral/hap/anewman/conus_v1p2/eighth/v2_...</td>\n",
       "    </tr>\n",
       "    <tr>\n",
       "      <th>4</th>\n",
       "      <td>GMET_V2-TEST-LIST:input-file:./tests/gmet_v2_f...</td>\n",
       "      <td>input-file</td>\n",
       "      <td>False</td>\n",
       "      <td>daily</td>\n",
       "      <td>75</td>\n",
       "      <td>v2_landmask</td>\n",
       "      <td>20070101-20071231</td>\n",
       "      <td>eighth</td>\n",
       "      <td>/glade/p/ral/hap/anewman/conus_v1p2/eighth/v2_...</td>\n",
       "      <td>conus_daily_eighth_20070101_20071231_075.nc4</td>\n",
       "      <td>/glade/p/ral/hap/anewman/conus_v1p2/eighth/v2_...</td>\n",
       "    </tr>\n",
       "  </tbody>\n",
       "</table>\n",
       "</div>"
      ],
      "text/plain": [
       "                                            resource resource_type  \\\n",
       "0  GMET_V2-TEST-LIST:input-file:./tests/gmet_v2_f...    input-file   \n",
       "1  GMET_V2-TEST-LIST:input-file:./tests/gmet_v2_f...    input-file   \n",
       "2  GMET_V2-TEST-LIST:input-file:./tests/gmet_v2_f...    input-file   \n",
       "3  GMET_V2-TEST-LIST:input-file:./tests/gmet_v2_f...    input-file   \n",
       "4  GMET_V2-TEST-LIST:input-file:./tests/gmet_v2_f...    input-file   \n",
       "\n",
       "   direct_access frequency  member_id      version         time_range  \\\n",
       "0          False     daily         68  v2_landmask  19810101-19811231   \n",
       "1          False     daily         91  v2_landmask  20130101-20131231   \n",
       "2          False     daily         17  v2_landmask  20000101-20001231   \n",
       "3          False     daily         71  v2_landmask  20060101-20061231   \n",
       "4          False     daily         75  v2_landmask  20070101-20071231   \n",
       "\n",
       "  resolution                                      file_fullpath  \\\n",
       "0     eighth  /glade/p/ral/hap/anewman/conus_v1p2/eighth/v2_...   \n",
       "1     eighth  /glade/p/ral/hap/anewman/conus_v1p2/eighth/v2_...   \n",
       "2     eighth  /glade/p/ral/hap/anewman/conus_v1p2/eighth/v2_...   \n",
       "3     eighth  /glade/p/ral/hap/anewman/conus_v1p2/eighth/v2_...   \n",
       "4     eighth  /glade/p/ral/hap/anewman/conus_v1p2/eighth/v2_...   \n",
       "\n",
       "                                  file_basename  \\\n",
       "0  conus_daily_eighth_19810101_19811231_068.nc4   \n",
       "1  conus_daily_eighth_20130101_20131231_091.nc4   \n",
       "2  conus_daily_eighth_20000101_20001231_017.nc4   \n",
       "3  conus_daily_eighth_20060101_20061231_071.nc4   \n",
       "4  conus_daily_eighth_20070101_20071231_075.nc4   \n",
       "\n",
       "                                        file_dirname  \n",
       "0  /glade/p/ral/hap/anewman/conus_v1p2/eighth/v2_...  \n",
       "1  /glade/p/ral/hap/anewman/conus_v1p2/eighth/v2_...  \n",
       "2  /glade/p/ral/hap/anewman/conus_v1p2/eighth/v2_...  \n",
       "3  /glade/p/ral/hap/anewman/conus_v1p2/eighth/v2_...  \n",
       "4  /glade/p/ral/hap/anewman/conus_v1p2/eighth/v2_...  "
      ]
     },
     "execution_count": 4,
     "metadata": {},
     "output_type": "execute_result"
    }
   ],
   "source": [
    "col.df.head()"
   ]
  },
  {
   "cell_type": "code",
   "execution_count": null,
   "metadata": {},
   "outputs": [],
   "source": []
  }
 ],
 "metadata": {
  "kernelspec": {
   "display_name": "Python 3",
   "language": "python",
   "name": "python3"
  },
  "language_info": {
   "codemirror_mode": {
    "name": "ipython",
    "version": 3
   },
   "file_extension": ".py",
   "mimetype": "text/x-python",
   "name": "python",
   "nbconvert_exporter": "python",
   "pygments_lexer": "ipython3",
   "version": "3.6.7"
  }
 },
 "nbformat": 4,
 "nbformat_minor": 2
}
